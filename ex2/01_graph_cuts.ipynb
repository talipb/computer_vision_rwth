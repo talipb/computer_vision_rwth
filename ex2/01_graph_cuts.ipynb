{
 "cells": [
  {
   "attachments": {},
   "cell_type": "markdown",
   "metadata": {},
   "source": [
    "<center>\n",
    "<a href=\"https://www.vision.rwth-aachen.de/\"><img src=\"data:image/png;base64,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\" alt=\"Vision Institute i13\" width=\"320\"/></a>\n",
    "</center>\n",
    "\n",
    "# Computer Vision Exercises\n",
    "\n",
    "**Assistants:**\n",
    "<br>\n",
    "Alexey Nekrasov &lt;nekrasov@vision.rwth-aachen.de&gt;\n",
    "<br>\n",
    "Jens Piekenbrinck &lt;piekenbrinck@vision.rwth-aachen.de&gt;\n",
    "\n",
    "The assignments are **mandatory**!\n",
    "\n",
    "We want to provide you with an interactive learning experience, so the assignments rely on [Jupyter](https://jupyter.org/) notebooks which you can run locally on your computer. The RWTH also offers a [JupyterHub](https://jupyter.rwth-aachen.de/) where you can run notebooks. If you have any questions, please contact us.\n",
    "\n",
    "Make sure you fill in any place in *code cells* that says:\n",
    "```python\n",
    "# YOUR CODE HERE\n",
    "raise NotImplementedError()\n",
    "```\n",
    "\n",
    "Make sure you fill in any place in *text cells* that says:\n",
    "<br>\n",
    "\n",
    "`YOUR ANSWER HERE`\n",
    "\n",
    "\n",
    "### Submission:\n",
    "\n",
    "⏰ Due date: 2023-05-14 23:59:00\n",
    "\n",
    "**Important**:\n",
    "Follow the instructions below when submitting your attempt.\\\n",
    "Submissions not following these instructions will not be graded.\n",
    "\n",
    "1. Submit in **teams of 3 or 4 students**, add their names and matriculation numbers below. Only **one team member should upload** the solutions.\n",
    "2. **Use jupyter notebook**. Other notebook-editing software (e.g. jupyter-lab, pycharm) might corrupt the notebook files and could have issues with displaying matplotlib interactively.\n",
    "3. **Do not remove, modify or duplicate** any given cells, except those in which you need to fill in your implementation. You can add new cells in order to present additional texts or plots.\n",
    "4. **Restart the kernel and re-run the whole notebook** once before submission. After this step, the cell id should be incremental from top to bottom, and all plots should be displayed.\n",
    "5. **Submit only the `.ipynb` files**, do not upload archives (zip, rar, tar, etc.), images or datasets.\n",
    "6. **Do not change the filenames** of the `.ipynb` files."
   ]
  },
  {
   "attachments": {},
   "cell_type": "markdown",
   "metadata": {},
   "source": [
    "Team members (names and matriculation numbers):\n",
    "* \n",
    "* \n",
    "* \n",
    "* "
   ]
  },
  {
   "cell_type": "markdown",
   "metadata": {
    "deletable": false,
    "editable": false,
    "nbgrader": {
     "cell_type": "markdown",
     "checksum": "7c98200db7f2aa3ca190e9f20057111e",
     "grade": false,
     "grade_id": "cell-2c974fbadcd55657",
     "locked": true,
     "schema_version": 3,
     "solution": false,
     "task": false
    }
   },
   "source": [
    "This exercise consists of three parts in three notebooks:\n",
    "1. Graph Cut Segmentation\n",
    "2. Mean Shift Segmentation\n",
    "3. Sliding Window Detection"
   ]
  },
  {
   "cell_type": "markdown",
   "metadata": {
    "deletable": false,
    "editable": false,
    "nbgrader": {
     "cell_type": "markdown",
     "checksum": "8ff22b404c61ced05b42b74af18021a0",
     "grade": false,
     "grade_id": "cell-d224cb07166650f3",
     "locked": true,
     "schema_version": 3,
     "solution": false,
     "task": false
    }
   },
   "source": [
    "# Graph Cut Segmentation\n",
    "\n",
    "In this part you will implement foreground-background segmentation using *Markov random fields* (MRF) and graph cuts.\n",
    "\n",
    "### Recap from the lecture\n",
    "A Markov random field is a graphical model that expresses the structure of (input and output) variables. In our image segmentation case this structure means that we do not simply model the foreground and background pixel colors but also take into account the neighborhood relations of the pixels. This encodes the intuition that neighboring pixels are more likely to belong to the same region than just two random pixels of the image.\n",
    "\n",
    "The color (or more generally, appearance) models and the neighborhood relations are combined in a so-called *energy function* (or cost function), which is then minimized to obtain an optimal label-assignment.\n",
    "\n",
    "Given a structured input (here: image pixel colors) $\\mathcal{Y} = \\{Y_j|j \\in I\\}$ we want to find the output (here: labeling) $\\mathcal{X} = \\{X_j | j \\in I\\}$ such that\n",
    "\n",
    "$$\n",
    "\\hat{\\mathcal{X}} = \\arg \\min_{\\mathcal{X}} E(\\mathcal{X}, \\mathcal{Y})\n",
    "$$\n",
    "\n",
    "$$\n",
    "E(\\mathcal{X}, \\mathcal{Y}) = \\sum_{j\\in I}{\\psi_u (X_j,Y_j)} + \\sum_{i, j\\in I}{\\psi_p (X_j,X_j,Y_i,Y_j)}.\n",
    "$$\n",
    "\n",
    "The set $I$ contains all possible pixel indices. In our two-label (binary) segmentation case, the label variables must be either 0 (background) or 1 (foreground) $X_j \\in \\{0, 1\\}$.\n",
    "\n",
    "The so-called *unary potential* $\\psi_u (X_j,Y_j)$ is the cost of assigning the label $X_j$ to a pixel with color $Y_j$. In probabilistic terms, the unary potential is\n",
    "\n",
    "$$\n",
    "\\psi_u (X_j,Y_j)=-\\omega_u \\cdot \\log p(X_j|Y_j),\n",
    "$$\n",
    "\n",
    "with an appropriate model $p$ for the foreground and the background and a weighting factor $\\omega_u$. The unaries encourage labeling each pixel with the label (foreground/background) whose color model is a better fit for that particular pixel.\n",
    "\n",
    "The *pairwise potential* $\\psi_p$ incorporates the dependencies between pixels. To speed up the computation, the pairwise model is usually restricted to neighboring pixels and is therefore set to zero if the $i$th and $j$th pixels are not direct neighbors in a 4-neighborhood. In our case it written as:\n",
    "\n",
    "$$\n",
    "\\psi_p (X_i,X_j,Y_i,Y_j)=\\omega_p\\cdot\n",
    "\\begin{cases}\n",
    "1,&\\text{if }   X_i\\neq X_j \\text{ and } i,j \\text{ are neighbors}  \\\\\n",
    "0,&\\text{otherwise}\n",
    "\\end{cases}\n",
    "$$\n",
    "\n",
    "with some weighting factor $\\omega_p$. Such a pairwise potential encourages neighboring pixels to have the same label because it gives some nonzero cost to each pair of neighboring pixels that are assigned different labels.\n",
    "\n",
    "After this, a Graph Cut method is used to find the optimal solution $\\hat{\\mathcal X}$ of the energy function.\n",
    "\n",
    "### Bird's eye overview\n",
    "\n",
    "It's easy to get lost in all the details, so here's an roadmap of what we're going to do:\n",
    "\n",
    "1. Set up the Markov Random Field (define unaries and pairwise potentials), in more detail:\n",
    "    1. Manually define some approximate initial background and foreground regions in the image\n",
    "    2. Model the distribution of background and foreground colors based on the colors found in the approximate initial regions\n",
    "    3. For each pixel independently, calculate the posterior probability of being foreground, based on the models from the previous step (create a \"probability map\")\n",
    "    4. Calculate the unary potentials based on the foreground probability map\n",
    "    5. Define the pairwise potentials (using the neighborhood relations)\n",
    "2. Use the graph cut algorithm to minimize the energy function of the Markov Random Field and obtain a labeling\n",
    "\n",
    "You will not have to implement the graph cut algorithm yourself, we will use either the `networkx` or `pygco` (\"Python Graph Cut Optimizer\") package for that. You can install the latter one using `conda install pygco -c kayarre`. (This is a Python wrapper over the C++ gco library. The C++ library can be found at https://vision.cs.uwaterloo.ca/code/).\n",
    "\n",
    "`pygco` is much faster compared to `networkx`, but also more difficult to install. Try to install `pygco` first, if this fails use `networkx` and set `USE_NETWORKX=True`."
   ]
  },
  {
   "cell_type": "code",
   "execution_count": null,
   "metadata": {
    "deletable": false,
    "editable": false,
    "nbgrader": {
     "cell_type": "code",
     "checksum": "17c1450786cce77846766ce98c9a1a93",
     "grade": false,
     "grade_id": "cell-253782a32ab80105",
     "locked": true,
     "schema_version": 3,
     "solution": false,
     "task": false
    }
   },
   "outputs": [],
   "source": [
    "%%html\n",
    "<!-- Run this cell to add heading letters per subtask (like a, b, c) -->\n",
    "<style>\n",
    "body {counter-reset: section;}\n",
    "h2:before {counter-increment: section;\n",
    "           content: counter(section, lower-alpha) \") \";}\n",
    "</style>"
   ]
  },
  {
   "cell_type": "code",
   "execution_count": null,
   "metadata": {},
   "outputs": [],
   "source": [
    "# If you can't get pygco installed, set this to True to use networkx instead.\n",
    "# networkx can also perform the graph cut algorithm, but it is much (!) slower\n",
    "# so try installing pygco first\n",
    "USE_NETWORKX = True"
   ]
  },
  {
   "cell_type": "code",
   "execution_count": null,
   "metadata": {
    "deletable": false,
    "editable": false,
    "nbgrader": {
     "cell_type": "code",
     "checksum": "e212c1e99b8b5dfcf12743807cc8f6a8",
     "grade": false,
     "grade_id": "cell-4615d4fb66ece32b",
     "locked": true,
     "schema_version": 3,
     "solution": false,
     "task": false
    }
   },
   "outputs": [],
   "source": [
    "# Some imports and helper functions\n",
    "%matplotlib notebook\n",
    "import time\n",
    "\n",
    "import cv2\n",
    "import imageio.v3 as iio\n",
    "import matplotlib.pyplot as plt\n",
    "import numpy as np\n",
    "\n",
    "if USE_NETWORKX:\n",
    "    import networkx as nx\n",
    "    from networkx.algorithms.flow import preflow_push\n",
    "else:\n",
    "    import pygco\n",
    "\n",
    "\n",
    "def draw_mask_on_image(image, mask, color=(0, 255, 255)):\n",
    "    \"\"\"Return a visualization of a mask overlaid on an image.\"\"\"\n",
    "    result = image.copy()\n",
    "    kernel = cv2.getStructuringElement(cv2.MORPH_RECT, (3, 3))\n",
    "    dilated = cv2.morphologyEx(mask.astype(np.uint8), cv2.MORPH_DILATE, kernel)\n",
    "    outline = dilated > mask\n",
    "    result[mask == 1] = (result[mask == 1] * 0.4 + np.array(color) * 0.6).astype(\n",
    "        np.uint8\n",
    "    )\n",
    "    result[outline] = color\n",
    "    return result"
   ]
  },
  {
   "cell_type": "markdown",
   "metadata": {
    "deletable": false,
    "editable": false,
    "nbgrader": {
     "cell_type": "markdown",
     "checksum": "f155364ecd4ef9e1abe31346f4657371",
     "grade": false,
     "grade_id": "cell-f840b2115024f6b3",
     "locked": true,
     "schema_version": 3,
     "solution": false,
     "task": false
    }
   },
   "source": [
    "## Mask Initialization\n",
    "\n",
    "First, manually create initial boxes of foreground and background regions.\n",
    "\n",
    "We will use these to build color models. That is, to model the probability of a pixel color occuring, given either that it is a foreground or a background pixel."
   ]
  },
  {
   "cell_type": "code",
   "execution_count": null,
   "metadata": {
    "deletable": false,
    "nbgrader": {
     "cell_type": "code",
     "checksum": "eb2d073400141c0ba8bd4eac8d758c1c",
     "grade": true,
     "grade_id": "cell-2e77789346031467",
     "locked": false,
     "points": 1,
     "schema_version": 3,
     "solution": true
    }
   },
   "outputs": [],
   "source": [
    "# POINTS: 1\n",
    "\n",
    "im = iio.imread(\"lotus320.jpg\")\n",
    "h, w = im.shape[:2]\n",
    "\n",
    "# Set up initial foreground and background\n",
    "# regions for building the color model\n",
    "init_fg_mask = np.zeros([h, w])\n",
    "init_bg_mask = np.zeros([h, w])\n",
    "\n",
    "# Now set some rectangular region of the initial foreground mask to 1.\n",
    "# This should be a part of the image that is fully foreground.\n",
    "# The indices in the following line are just an example,\n",
    "# and they need to be corrected so that only flower pixels are included\n",
    "# init_fg_mask[10:20, 15:30] = 1\n",
    "\n",
    "# Same for the background (replace the indices)\n",
    "# init_bg_mask[60:90, 50:110] = 1\n",
    "\n",
    "# YOUR CODE HERE\n",
    "raise NotImplementedError()\n",
    "\n",
    "fig, axes = plt.subplots(1, 2, figsize=(9.5, 5))\n",
    "axes[0].set_title(\"Initial foreground mask\")\n",
    "axes[0].imshow(draw_mask_on_image(im, init_fg_mask))\n",
    "axes[1].set_title(\"Initial background mask\")\n",
    "axes[1].imshow(draw_mask_on_image(im, init_bg_mask))\n",
    "fig.tight_layout()\n",
    "fig.show()"
   ]
  },
  {
   "cell_type": "markdown",
   "metadata": {
    "deletable": false,
    "editable": false,
    "nbgrader": {
     "cell_type": "markdown",
     "checksum": "1fc06ad1fb746b86ae6e89ab767a2b37",
     "grade": false,
     "grade_id": "cell-9c3d80888b51c740",
     "locked": true,
     "schema_version": 3,
     "solution": false,
     "task": false
    }
   },
   "source": [
    "## Color Modeling by Histograms\n",
    "\n",
    "A common way to model color distributions is to use *Gaussian mixture models*. However, to keep this exercise simple, we will only use color histograms (i.e. the relative frequencies of quantized colors) in the respective region of the image defined by the boxes. In other words, we model the color simply as a discretized, categorical random variable.\n",
    "\n",
    "Implement the function `calculate_histogram`. It should take as input the image `im` with values in the range $[0, 255]$ and a `mask` the same size as the image. The mask is 1 at the positions of the image where the histogram should be computed, zero elsewhere. The final parameter `n_bins` defines how many bins should be used in the histogram along each dimension. The function should **return a 3-dimensional array** of shape `[n_bins, n_bins, n_bins]`, containing the relative frequency for each `(r, g, b)` color bin within the region of the image defined by the mask, i.e. the fraction of pixels falling within each bin. The histogram should be normalized (sum to 1). All bins are initialized with a small value ($10^{−3}$) to avoid relative frequencies which are zero. (Why would zeros be a problem?)"
   ]
  },
  {
   "cell_type": "code",
   "execution_count": null,
   "metadata": {
    "deletable": false,
    "nbgrader": {
     "cell_type": "code",
     "checksum": "18f30cfa906d48f09362bfdd05fc35cd",
     "grade": true,
     "grade_id": "cell-fdbb796b3660b29f",
     "locked": false,
     "points": 3,
     "schema_version": 3,
     "solution": true
    }
   },
   "outputs": [],
   "source": [
    "# POINTS: 3\n",
    "\n",
    "def calculate_histogram(im, mask, n_bins):\n",
    "    histogram = np.full((n_bins, n_bins, n_bins), fill_value=0.001)\n",
    "\n",
    "    # YOUR CODE HERE\n",
    "    raise NotImplementedError()\n",
    "    return histogram"
   ]
  },
  {
   "cell_type": "code",
   "execution_count": null,
   "metadata": {
    "deletable": false,
    "editable": false,
    "nbgrader": {
     "cell_type": "code",
     "checksum": "a82e278112f33bcddd6861397ec3ec91",
     "grade": false,
     "grade_id": "cell-2b3a2a3a843bd70a",
     "locked": true,
     "schema_version": 3,
     "solution": false,
     "task": false
    }
   },
   "outputs": [],
   "source": [
    "n_bins = 10\n",
    "fg_histogram = calculate_histogram(im, init_fg_mask, n_bins)\n",
    "bg_histogram = calculate_histogram(im, init_bg_mask, n_bins)\n",
    "\n",
    "fig, axes = plt.subplots(\n",
    "    3,\n",
    "    2,\n",
    "    figsize=(5, 5),\n",
    "    sharex=True,\n",
    "    sharey=True,\n",
    "    num=\"Relative frequency of color bins\",\n",
    ")\n",
    "\n",
    "x = np.arange(n_bins)\n",
    "axes[0, 0].bar(x, np.sum(fg_histogram, (1, 2)))\n",
    "axes[0, 0].set_title(\"red (foreground)\")\n",
    "axes[1, 0].bar(x, np.sum(fg_histogram, (0, 2)))\n",
    "axes[1, 0].set_title(\"green (foreground)\")\n",
    "axes[2, 0].bar(x, np.sum(fg_histogram, (0, 1)))\n",
    "axes[2, 0].set_title(\"blue (foreground)\")\n",
    "\n",
    "axes[0, 1].bar(x, np.sum(bg_histogram, (1, 2)))\n",
    "axes[0, 1].set_title(\"red (background)\")\n",
    "axes[1, 1].bar(x, np.sum(bg_histogram, (0, 2)))\n",
    "axes[1, 1].set_title(\"green (background)\")\n",
    "axes[2, 1].bar(x, np.sum(bg_histogram, (0, 1)))\n",
    "axes[2, 1].set_title(\"blue (background)\")\n",
    "fig.tight_layout()\n",
    "fig.show()"
   ]
  },
  {
   "cell_type": "markdown",
   "metadata": {
    "deletable": false,
    "editable": false,
    "nbgrader": {
     "cell_type": "markdown",
     "checksum": "52302f1336ad1c637430bb887d10aeb2",
     "grade": false,
     "grade_id": "cell-c6e77ea0098d9295",
     "locked": true,
     "schema_version": 3,
     "solution": false,
     "task": false
    }
   },
   "source": [
    "How does the histogram calculation in `calculate_histogram` differ from creating 3 separate histograms, for R, G, and B individually? Would this alternative method (separate histograms) yield more or or less information about the image?"
   ]
  },
  {
   "cell_type": "markdown",
   "metadata": {
    "deletable": false,
    "nbgrader": {
     "cell_type": "markdown",
     "checksum": "36a8f0a2c88823b7342abb76a2de6735",
     "grade": true,
     "grade_id": "cell-7582c0855089a2b7",
     "locked": false,
     "points": 0,
     "schema_version": 3,
     "solution": true,
     "task": false
    }
   },
   "source": [
    "*POINTS: 0*\n",
    "\n",
    "YOUR ANSWER HERE"
   ]
  },
  {
   "cell_type": "markdown",
   "metadata": {
    "deletable": false,
    "editable": false,
    "nbgrader": {
     "cell_type": "markdown",
     "checksum": "2b3fa372a9dce95f78a033cb027ae443",
     "grade": false,
     "grade_id": "cell-096810fbf819ba25",
     "locked": true,
     "schema_version": 3,
     "solution": false,
     "task": false
    }
   },
   "source": [
    "## Foreground Probability Map\n",
    "\n",
    "The next step in the segmentation process is to estimate a probability map: For each pixel we want to estimate the probability that it belongs to the foreground. This will be used as basis for the unary potential.\n",
    "\n",
    "The function `foreground_pmap(im, fg_histogram, bg_histogram)` should take the image `im` and the two histograms `fg_histogram`, `bg_histogram` estimated from the foreground region and the background region respecively. It should return an array of shape $\\texttt{height}\\times\\texttt{width}$ containing the probability of each pixel belonging to the foreground. To estimate the required probability $p(c|[r, g, b])$ from the computed histograms, a class prior $p(c)$ of $0.5$ should be used, which means that both foreground and background pixels are equally likely a priori. \n",
    "\n",
    "Recall Bayes' theorem applied to this case:\n",
    "\n",
    "$$\n",
    "p(c\\ |\\ r,g,b) = \\frac{p(c) \\cdot p(r,g,b\\ |\\ c)}{p(r,g,b)} = \\frac{p(c)\\cdot p(r,g,b\\ |\\ c)}{\\sum_{\\tilde{c}} p(\\tilde{c}) \\cdot p(r,g,b\\ |\\ \\tilde{c}) }\n",
    "$$"
   ]
  },
  {
   "cell_type": "code",
   "execution_count": null,
   "metadata": {
    "deletable": false,
    "nbgrader": {
     "cell_type": "code",
     "checksum": "1e4704937b856904340803781c547e54",
     "grade": true,
     "grade_id": "cell-95f7f7212e4f293c",
     "locked": false,
     "points": 4,
     "schema_version": 3,
     "solution": true
    }
   },
   "outputs": [],
   "source": [
    "# POINTS: 4\n",
    "\n",
    "def foreground_pmap(im, fg_histogram, bg_histogram):\n",
    "    # YOUR CODE HERE\n",
    "    raise NotImplementedError()"
   ]
  },
  {
   "cell_type": "code",
   "execution_count": null,
   "metadata": {
    "deletable": false,
    "editable": false,
    "nbgrader": {
     "cell_type": "code",
     "checksum": "f82d46a27fd0bcf0da6da4e5c35e52ff",
     "grade": false,
     "grade_id": "cell-161811bcc3bd5263",
     "locked": true,
     "schema_version": 3,
     "solution": false,
     "task": false
    }
   },
   "outputs": [],
   "source": [
    "foreground_prob = foreground_pmap(im, fg_histogram, bg_histogram)\n",
    "fig, axes = plt.subplots(1, 2, figsize=(9.5, 5), sharey=True)\n",
    "axes[0].imshow(im)\n",
    "axes[0].set_title(\"Input image\")\n",
    "im_plot = axes[1].imshow(foreground_prob, cmap=\"viridis\")\n",
    "axes[1].set_title(\"Foreground posterior probability\")\n",
    "fig.tight_layout()\n",
    "fig.colorbar(im_plot, ax=axes)\n",
    "foreground_map = foreground_prob > 0.5\n",
    "fig.show()"
   ]
  },
  {
   "cell_type": "markdown",
   "metadata": {
    "deletable": false,
    "editable": false,
    "nbgrader": {
     "cell_type": "markdown",
     "checksum": "ac62a5d389a97ff6d9bdb1c93c33859c",
     "grade": false,
     "grade_id": "cell-a645a5f0eedbc4f9",
     "locked": true,
     "schema_version": 3,
     "solution": false,
     "task": false
    }
   },
   "source": [
    "Explain what you see in the probability map."
   ]
  },
  {
   "cell_type": "markdown",
   "metadata": {
    "deletable": false,
    "nbgrader": {
     "cell_type": "markdown",
     "checksum": "32684674eea0b4bfd2e8585890448a1e",
     "grade": true,
     "grade_id": "cell-35edc5393045eb8e",
     "locked": false,
     "points": 0,
     "schema_version": 3,
     "solution": true
    }
   },
   "source": [
    "*POINTS: 0*\n",
    "\n",
    "YOUR ANSWER HERE"
   ]
  },
  {
   "cell_type": "markdown",
   "metadata": {
    "deletable": false,
    "editable": false,
    "nbgrader": {
     "cell_type": "markdown",
     "checksum": "f97174f83651c0b3c813e16fcdaf3f9b",
     "grade": false,
     "grade_id": "cell-b4941d234b33f442",
     "locked": true,
     "schema_version": 3,
     "solution": false,
     "task": false
    }
   },
   "source": [
    "## Unary Potentials\n",
    "Use the previously computed probability map `foreground_map` to compute the unary potential for both foreground and background.\n",
    "\n",
    "This function `unary_potentials(probability_map, unary_weight)` shall use the `probability_map` and a scalar weighting factor to compute the unary potentials. It should return a matrix of the same size as the probability matrix."
   ]
  },
  {
   "cell_type": "code",
   "execution_count": null,
   "metadata": {
    "deletable": false,
    "nbgrader": {
     "cell_type": "code",
     "checksum": "6027ad1fd775386ae35f9ce79f7f9994",
     "grade": true,
     "grade_id": "cell-b49b5083d5721c0f",
     "locked": false,
     "points": 1,
     "schema_version": 3,
     "solution": true
    }
   },
   "outputs": [],
   "source": [
    "# POINTS: 1\n",
    "\n",
    "def unary_potentials(probability_map, unary_weight):\n",
    "    # YOUR CODE HERE\n",
    "    raise NotImplementedError()\n",
    "\n",
    "\n",
    "unary_weight = 1\n",
    "unary_fg = unary_potentials(foreground_prob, unary_weight)\n",
    "unary_bg = unary_potentials(1 - foreground_prob, unary_weight)\n",
    "fig, axes = plt.subplots(1, 2, figsize=(9.5, 5), sharey=True)\n",
    "axes[0].imshow(unary_fg)\n",
    "axes[0].set_title(\"Unary potentials (foreground)\")\n",
    "im_plot = axes[1].imshow(unary_bg)\n",
    "axes[1].set_title(\"Unary potentials (background)\")\n",
    "fig.tight_layout()\n",
    "fig.colorbar(im_plot, ax=axes)\n",
    "fig.show()"
   ]
  },
  {
   "cell_type": "markdown",
   "metadata": {
    "deletable": false,
    "editable": false,
    "nbgrader": {
     "cell_type": "markdown",
     "checksum": "1b91b1d45914a6f921c3a60b053ef540",
     "grade": false,
     "grade_id": "cell-c2d1fa35b22a4f7b",
     "locked": true,
     "schema_version": 3,
     "solution": false,
     "task": false
    }
   },
   "source": [
    "Why are the unary potentials for the foreground so small in the middle of the flower?"
   ]
  },
  {
   "cell_type": "markdown",
   "metadata": {
    "deletable": false,
    "nbgrader": {
     "cell_type": "markdown",
     "checksum": "61b12f1a1d1d4aadd18942274d1e7805",
     "grade": true,
     "grade_id": "cell-fe74e786d39d5cac",
     "locked": false,
     "points": 0,
     "schema_version": 3,
     "solution": true
    }
   },
   "source": [
    "*POINTS: 0*\n",
    "\n",
    "YOUR ANSWER HERE"
   ]
  },
  {
   "cell_type": "markdown",
   "metadata": {
    "deletable": false,
    "editable": false,
    "nbgrader": {
     "cell_type": "markdown",
     "checksum": "91b1ad8769497ada9f0f9f86bf605c79",
     "grade": false,
     "grade_id": "cell-f2e7690015dd426a",
     "locked": true,
     "schema_version": 3,
     "solution": false,
     "task": false
    }
   },
   "source": [
    "## Pairwise Potentials\n",
    "\n",
    "Create a function to compute the prefactor $w_p$ of the pairwise potential for two specific pixels. Implement the function below, where `im` is the image, `(x1, y1), (x2, y2)` are the pixel coordinates in the image and the last parameter is the weight $\\omega_p$ for the pairwise potential. (Do not confuse `(x1, y1), (x2, y2)` with the $X_j, Y_j$ from the top of the page. There $\\mathcal X$ was the label and $\\mathcal Y$ the pixel value, here they are the $x$ and $y$ coordinates in the image) \n",
    "\n",
    "Keep in mind that this prefactor does not depend on the labels and is therefore independent of $\\mathcal{X}$. The function signature is more general (see the contrast-sensitive Potts Model question later on), not all parameters are needed here. Note, that it is not computed here whether the given pixels are neighbours, as this is not part of the prefactor $\\omega_p$.\n",
    "\n",
    "*Hint:* the function is extremely simple."
   ]
  },
  {
   "cell_type": "code",
   "execution_count": null,
   "metadata": {
    "deletable": false,
    "nbgrader": {
     "cell_type": "code",
     "checksum": "5417fa6c5aeb6f567e05dec74b2ff8d7",
     "grade": true,
     "grade_id": "cell-c5fb31a66d81191c",
     "locked": false,
     "points": 1,
     "schema_version": 3,
     "solution": true
    }
   },
   "outputs": [],
   "source": [
    "# POINTS: 1\n",
    "\n",
    "def pairwise_potential_prefactor(im, x1, y1, x2, y2, pairwise_weight):\n",
    "    # YOUR CODE HERE\n",
    "    raise NotImplementedError()"
   ]
  },
  {
   "cell_type": "markdown",
   "metadata": {
    "deletable": false,
    "editable": false,
    "nbgrader": {
     "cell_type": "markdown",
     "checksum": "25fe8343aec5f19cda3b74b2af6a8551",
     "grade": false,
     "grade_id": "cell-59d63e8a6f9ee432",
     "locked": true,
     "schema_version": 3,
     "solution": false,
     "task": false
    }
   },
   "source": [
    "Using the functions from the previous task, implement a function to compute all the pairwise potentials for the image using 4-neighborhoods. That means only the top, bottom, left and right neighboring pixels should be connected to a given pixel.\n",
    "\n",
    "The function `pairwise_potentials` should return the `edges` (represented as index pairs) and an array `costs` containing the corresponding edge costs (i.e. the value of the pairwise potential prefactor). You have to use a linearized index instead of (x,y)-coordinates for the edge indices. A conversion function is supplied (`coords_to_index(x, y, width)`).\n",
    "\n",
    "Thus, `edges` should be an integer array of shape $k\\times 2$, while `costs` should have length $k$, where $k$ is the number of neighborhood-edges in the image grid."
   ]
  },
  {
   "cell_type": "code",
   "execution_count": null,
   "metadata": {
    "deletable": false,
    "nbgrader": {
     "cell_type": "code",
     "checksum": "ee36a3f560e9a566d456759c1a20dff3",
     "grade": true,
     "grade_id": "cell-d1c10b8c69f5ccbb",
     "locked": false,
     "points": 4,
     "schema_version": 3,
     "solution": true
    }
   },
   "outputs": [],
   "source": [
    "# POINTS: 4\n",
    "\n",
    "def coords_to_index(x, y, width):\n",
    "    return y * width + x\n",
    "\n",
    "\n",
    "def pairwise_potentials(im, pairwise_weight):\n",
    "    # YOUR CODE HERE\n",
    "    raise NotImplementedError()\n",
    "    return edges, costs\n",
    "\n",
    "\n",
    "pairwise_edges, pairwise_costs = pairwise_potentials(im, pairwise_weight=5)"
   ]
  },
  {
   "cell_type": "markdown",
   "metadata": {
    "deletable": false,
    "editable": false,
    "nbgrader": {
     "cell_type": "markdown",
     "checksum": "21c1bd998c4b8b9cb5fd4770ded2112e",
     "grade": false,
     "grade_id": "cell-7ba9dbb69bfbe818",
     "locked": true,
     "schema_version": 3,
     "solution": false,
     "task": false
    }
   },
   "source": [
    "Now you can execute the optimization procedure and plot the resulting labeling."
   ]
  },
  {
   "cell_type": "code",
   "execution_count": null,
   "metadata": {
    "deletable": false,
    "editable": false,
    "nbgrader": {
     "cell_type": "code",
     "checksum": "6c86d6fa858bb63d16223fa027853e2e",
     "grade": false,
     "grade_id": "cell-5022d107deabe13a",
     "locked": true,
     "schema_version": 3,
     "solution": false,
     "task": false
    }
   },
   "outputs": [],
   "source": [
    "def graph_cut(unary_fg, unary_bg, pairwise_edges, pairwise_costs):\n",
    "    if USE_NETWORKX:\n",
    "        graph = nx.Graph()\n",
    "        s = object()\n",
    "        t = object()\n",
    "\n",
    "        edges = []\n",
    "        for i, cost in enumerate(unary_bg.flat):\n",
    "            edges.append((s, i, cost))\n",
    "        for i, cost in enumerate(unary_fg.flat):\n",
    "            edges.append((i, t, cost))\n",
    "        for (i, j), cost in zip(pairwise_edges, pairwise_costs):\n",
    "            edges.append((i, j, cost))\n",
    "\n",
    "        graph.add_weighted_edges_from(edges, \"capacity\")\n",
    "\n",
    "        nodes_connected_to_s = nx.minimum_cut(graph, s, t, flow_func=preflow_push)[1][0]\n",
    "\n",
    "        fg_pixel_indices = list(set(nodes_connected_to_s) - {s})\n",
    "        labels = np.zeros_like(unary_fg, dtype=np.int32)\n",
    "        labels.flat[fg_pixel_indices] = 1\n",
    "        return labels\n",
    "    else:\n",
    "        unaries = np.stack([unary_bg.flat, unary_fg.flat], axis=-1)\n",
    "        labels = pygco.cut_general_graph(\n",
    "            pairwise_edges,\n",
    "            pairwise_costs,\n",
    "            unaries,\n",
    "            1 - np.eye(2),\n",
    "            n_iter=-1,\n",
    "            algorithm=\"swap\",\n",
    "        )\n",
    "        return labels.reshape(unary_fg.shape)\n",
    "\n",
    "\n",
    "graph_cut_result = graph_cut(unary_fg, unary_bg, pairwise_edges, pairwise_costs)\n",
    "fig, axes = plt.subplots(1, 2, figsize=(9.5, 5), sharey=True)\n",
    "axes[0].set_title(\"Thresholding of per-pixel foreground probability at 0.5\")\n",
    "axes[0].imshow(draw_mask_on_image(im, foreground_prob > 0.5))\n",
    "axes[1].set_title(\"Graph cut result\")\n",
    "axes[1].imshow(draw_mask_on_image(im, graph_cut_result))\n",
    "fig.tight_layout()\n",
    "fig.show()"
   ]
  },
  {
   "cell_type": "markdown",
   "metadata": {
    "deletable": false,
    "editable": false,
    "nbgrader": {
     "cell_type": "markdown",
     "checksum": "caed07c2c7364134da97accc8e3519f4",
     "grade": false,
     "grade_id": "cell-182388c0f02e64b4",
     "locked": true,
     "schema_version": 3,
     "solution": false,
     "task": false
    }
   },
   "source": [
    "Explain what you see. Why is the segmentation the way it is? What happens if you change the pairwise weight in the previous cell?"
   ]
  },
  {
   "cell_type": "markdown",
   "metadata": {
    "deletable": false,
    "nbgrader": {
     "cell_type": "markdown",
     "checksum": "45b200919c2c6fdded0e99451b491791",
     "grade": true,
     "grade_id": "cell-9ae3813d75e1500b",
     "locked": false,
     "points": 0,
     "schema_version": 3,
     "solution": true
    }
   },
   "source": [
    "*POINTS: 0*\n",
    "\n",
    "YOUR ANSWER HERE"
   ]
  },
  {
   "cell_type": "markdown",
   "metadata": {
    "deletable": false,
    "editable": false,
    "nbgrader": {
     "cell_type": "markdown",
     "checksum": "e555c12330f8dd66f95833a2fb385006",
     "grade": false,
     "grade_id": "cell-dfac7aaddda25cc1",
     "locked": true,
     "schema_version": 3,
     "solution": false,
     "task": false
    }
   },
   "source": [
    "## [OPTIONAL] Try another image\n",
    "\n",
    "First, create a single function that runs the whole segmentation pipeline starting from the image and the initial regions.\n",
    "\n",
    "`segment_image(...)` should return the final binary segmentation mask with 1 at the foreground pixels and 0 at the background."
   ]
  },
  {
   "cell_type": "code",
   "execution_count": null,
   "metadata": {
    "deletable": false,
    "nbgrader": {
     "cell_type": "code",
     "checksum": "731f97ccf86e6e46e8359bc74c4215bc",
     "grade": true,
     "grade_id": "cell-fe2ce88a33cb65ea",
     "locked": false,
     "points": 0,
     "schema_version": 3,
     "solution": true
    }
   },
   "outputs": [],
   "source": [
    "# POINTS: 0\n",
    "\n",
    "def segment_image(\n",
    "    im, init_fg_mask, init_bg_mask, unary_weight, pairwise_weight, n_bins\n",
    "):\n",
    "    # YOUR CODE HERE\n",
    "    raise NotImplementedError()"
   ]
  },
  {
   "cell_type": "code",
   "execution_count": null,
   "metadata": {
    "deletable": false,
    "nbgrader": {
     "cell_type": "code",
     "checksum": "86384c567f4a8b6c6a3b02d056089e48",
     "grade": true,
     "grade_id": "cell-eac3714d77c34a96",
     "locked": false,
     "points": 0,
     "schema_version": 3,
     "solution": true
    }
   },
   "outputs": [],
   "source": [
    "# POINTS: 0\n",
    "\n",
    "import skimage.data\n",
    "\n",
    "\n",
    "def run_on_another_image():\n",
    "    im = skimage.data.immunohistochemistry()\n",
    "    # im = iio.imread('flowers.jpg')\n",
    "    # im = skimage.data.stereo_motorcycle()[0]\n",
    "    h, w = im.shape[:2]\n",
    "    fg_mask = np.zeros([h, w])\n",
    "    bg_mask = np.zeros([h, w])\n",
    "\n",
    "    # Set some appropriate parts of fg_mask and bg_mask to 1 for initialization.\n",
    "    # YOUR CODE HERE\n",
    "    raise NotImplementedError()\n",
    "\n",
    "    graph_cut_result = segment_image(\n",
    "        im, fg_mask, bg_mask, unary_weight=1, pairwise_weight=1, n_bins=8\n",
    "    )\n",
    "\n",
    "    fig, axes = plt.subplots(1, 3, figsize=(9.5, 5), sharey=True)\n",
    "    axes[0].set_title(\"Initial foreground mask\")\n",
    "    axes[0].imshow(draw_mask_on_image(im, fg_mask))\n",
    "    axes[1].set_title(\"Initial background mask\")\n",
    "    axes[1].imshow(draw_mask_on_image(im, bg_mask))\n",
    "    axes[2].set_title(\"Graph cut result\")\n",
    "    axes[2].imshow(draw_mask_on_image(im, graph_cut_result))\n",
    "    fig.tight_layout()\n",
    "    fig.show()\n",
    "\n",
    "\n",
    "run_on_another_image()"
   ]
  },
  {
   "cell_type": "markdown",
   "metadata": {
    "deletable": false,
    "editable": false,
    "nbgrader": {
     "cell_type": "markdown",
     "checksum": "15bb404eacb7da6b464e083eac7d2e22",
     "grade": false,
     "grade_id": "cell-39b384473ea64f3e",
     "locked": true,
     "schema_version": 3,
     "solution": false,
     "task": false
    }
   },
   "source": [
    "Does it look good? Which parameter would you need to change to reduce the number of holes in the segmentation? Try it.\n",
    "\n",
    "Now try segmenting `im = skimage.data.stereo_motorcycle()[0]` using this technique. Can you segment out the motorbike by fiddling with the parameters? Why or why not?"
   ]
  },
  {
   "cell_type": "markdown",
   "metadata": {
    "deletable": false,
    "nbgrader": {
     "cell_type": "markdown",
     "checksum": "e22d85784d8e6f5c5638603773a8c3bc",
     "grade": true,
     "grade_id": "cell-617f9e4ec2788e1c",
     "locked": false,
     "points": 0,
     "schema_version": 3,
     "solution": true,
     "task": false
    }
   },
   "source": [
    "*POINTS: 0*\n",
    "\n",
    "YOUR ANSWER HERE"
   ]
  },
  {
   "cell_type": "markdown",
   "metadata": {
    "deletable": false,
    "editable": false,
    "nbgrader": {
     "cell_type": "markdown",
     "checksum": "1f449e91477ad27ccdf6bca7c9766c9e",
     "grade": false,
     "grade_id": "cell-0bfe65988743250c",
     "locked": true,
     "schema_version": 3,
     "solution": false,
     "task": false
    }
   },
   "source": [
    "## [OPTIONAL] Contrast-Sensitive Potts Model\n",
    "Go back to the `pairwise_potential_prefactor` function and modify it to incorporate a new term, resulting in the so-called *contrast sensitive Potts model*. The new pairwise potential should be:\n",
    "\n",
    "$$\n",
    "\\psi_p (X_i,X_j,Y_i,Y_j,i,j)=\\omega_p\\cdot \\exp\\left(-\\omega_d\\|Y_i - Y_j\\|^2\\right)\\cdot \n",
    "\\begin{cases}\n",
    "1,&\\text{if } X_i \\neq X_j \\text{ and } i,j \\text{ are neighbors}  \\\\\n",
    "0,&\\text{otherwise}\n",
    "\\end{cases}\n",
    "$$\n",
    "\n",
    "This means the prefactor is now $\\omega_p\\cdot \\exp\\left(-\\omega_d\\|Y_i - Y_j\\|^2\\right)$. For simplicity, you can hardcode the parameter $\\omega_d$. "
   ]
  },
  {
   "cell_type": "markdown",
   "metadata": {
    "deletable": false,
    "editable": false,
    "nbgrader": {
     "cell_type": "markdown",
     "checksum": "cb2ebac29c8bb375ee055ddeaead59e8",
     "grade": false,
     "grade_id": "cell-9600ef2c30ad440d",
     "locked": true,
     "schema_version": 3,
     "solution": false,
     "task": false
    }
   },
   "source": [
    "What changes when using the contrast sensitive Potts model? What is the intuition behind adding this new term?"
   ]
  },
  {
   "cell_type": "markdown",
   "metadata": {
    "deletable": false,
    "nbgrader": {
     "cell_type": "markdown",
     "checksum": "17108d5079590e8a99c2904063f0169f",
     "grade": true,
     "grade_id": "cell-b349dae73ad633f2",
     "locked": false,
     "points": 0,
     "schema_version": 3,
     "solution": true
    }
   },
   "source": [
    "*POINTS: 0*\n",
    "\n",
    "YOUR ANSWER HERE"
   ]
  },
  {
   "cell_type": "markdown",
   "metadata": {
    "deletable": false,
    "editable": false,
    "nbgrader": {
     "cell_type": "markdown",
     "checksum": "260bb2a23ca506b8ef6fcdad4467b742",
     "grade": false,
     "grade_id": "cell-e5a91dd392fb61a8",
     "locked": true,
     "schema_version": 3,
     "solution": false,
     "task": false
    }
   },
   "source": [
    "## [OPTIONAL] Iterative Segmentation\n",
    "\n",
    "We can make the result better if we iterate the labeling process several times. Implement `iterative_opt`, a method to execute the optimization process iteratively. \n",
    "\n",
    "Use the previously computed labeling as initial segmentation (instead of the rectangular masks we used above) and estimate new models (histograms and unaries) for foreground and background based on these. Solve the graph cut problem and use the resulting segmentation in the next iteration."
   ]
  },
  {
   "cell_type": "code",
   "execution_count": null,
   "metadata": {
    "deletable": false,
    "nbgrader": {
     "cell_type": "code",
     "checksum": "131fac9003a20845454075f5f266dc53",
     "grade": true,
     "grade_id": "cell-2ce5215dc845ca7b",
     "locked": false,
     "points": 0,
     "schema_version": 3,
     "solution": true
    }
   },
   "outputs": [],
   "source": [
    "# POINTS: 0\n",
    "\n",
    "def iterative_opt(\n",
    "    im, fg_mask, n_bins, unary_weight, pairwise_edges, pairwise_costs, n_iter\n",
    "):\n",
    "    # YOUR CODE HERE\n",
    "    raise NotImplementedError()\n",
    "\n",
    "\n",
    "labels_5 = iterative_opt(\n",
    "    im, graph_cut_result, n_bins, unary_weight, pairwise_edges, pairwise_costs, n_iter=5\n",
    ")\n",
    "labels_10 = iterative_opt(\n",
    "    im, labels_5, n_bins, unary_weight, pairwise_edges, pairwise_costs, n_iter=5\n",
    ")\n",
    "\n",
    "fig, axes = plt.subplots(1, 3, figsize=(9.5, 4), sharex=True, sharey=True)\n",
    "axes[0].set_title(\"Initial\")\n",
    "axes[0].imshow(draw_mask_on_image(im, graph_cut_result))\n",
    "axes[1].set_title(f\"After 5 iterations\")\n",
    "axes[1].imshow(draw_mask_on_image(im, labels_5))\n",
    "axes[2].set_title(f\"After 10 iterations\")\n",
    "axes[2].imshow(draw_mask_on_image(im, labels_10))\n",
    "fig.tight_layout()\n",
    "fig.show()"
   ]
  },
  {
   "cell_type": "markdown",
   "metadata": {
    "deletable": false,
    "editable": false,
    "nbgrader": {
     "cell_type": "markdown",
     "checksum": "6da63862f9cba16a82a588c3f837aeef",
     "grade": false,
     "grade_id": "cell-1214a5750141d8e0",
     "locked": true,
     "schema_version": 3,
     "solution": false,
     "task": false
    }
   },
   "source": [
    "How did the labeling change? Do you have an explanation why?"
   ]
  },
  {
   "cell_type": "markdown",
   "metadata": {
    "deletable": false,
    "nbgrader": {
     "cell_type": "markdown",
     "checksum": "57b8a6e86e7c382ac0c1fdd325a97381",
     "grade": true,
     "grade_id": "cell-070840fac2ef0f43",
     "locked": false,
     "points": 0,
     "schema_version": 3,
     "solution": true
    }
   },
   "source": [
    "*POINTS: 0*\n",
    "\n",
    "YOUR ANSWER HERE"
   ]
  },
  {
   "cell_type": "markdown",
   "metadata": {
    "deletable": false,
    "editable": false,
    "nbgrader": {
     "cell_type": "markdown",
     "checksum": "ecefe8e57458d8b8504391ea80f124c6",
     "grade": false,
     "grade_id": "cell-ba95661a4bc8994a",
     "locked": true,
     "schema_version": 3,
     "solution": false,
     "task": false
    }
   },
   "source": [
    "## [OPTIONAL] Interactive Segmentation\n",
    "\n",
    "We can get even better results by incorporating user input into the iterative segmentation process you implemented above.\n",
    "\n",
    "Extend the given framework to allow the user to add or remove rectangular regions from the graph cut result. Then recalculate the foreground and background model according to new mask. Iterate this process until the user is satisfied with the result.\n",
    "\n",
    "For this, look up how to create interactive graphical interfaces using Matplotlib, see for example `matplotlib.widgets.RectangleSelector` and `matplotlib.widgets.Button`."
   ]
  },
  {
   "cell_type": "code",
   "execution_count": null,
   "metadata": {
    "deletable": false,
    "nbgrader": {
     "cell_type": "code",
     "checksum": "801aed794808b1eec8c270c1b8bb19fa",
     "grade": true,
     "grade_id": "cell-4d1f1ca28f5d8b56",
     "locked": false,
     "points": 0,
     "schema_version": 3,
     "solution": true
    }
   },
   "outputs": [],
   "source": [
    "# POINTS: 0\n",
    "\n",
    "# YOUR CODE HERE\n",
    "raise NotImplementedError()"
   ]
  }
 ],
 "metadata": {
  "kernelspec": {
   "display_name": "Python 3 (ipykernel)",
   "language": "python",
   "name": "python3"
  },
  "language_info": {
   "codemirror_mode": {
    "name": "ipython",
    "version": 3
   },
   "file_extension": ".py",
   "mimetype": "text/x-python",
   "name": "python",
   "nbconvert_exporter": "python",
   "pygments_lexer": "ipython3",
   "version": "3.11.2"
  }
 },
 "nbformat": 4,
 "nbformat_minor": 4
}
