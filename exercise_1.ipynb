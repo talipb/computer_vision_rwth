{
 "cells": [
  {
   "cell_type": "markdown",
   "metadata": {},
   "source": [
    "<center>\n",
    "<a href=\"https://www.vision.rwth-aachen.de/\"><img src=\"data:image/png;base64,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\" alt=\"Vision Institute i13\" width=\"320\"/></a>\n",
    "</center>\n",
    "\n",
    "# Computer Vision Exercises\n",
    "\n",
    "**Assistants:**\n",
    "<br>\n",
    "Alexey Nekrasov &lt;nekrasov@vision.rwth-aachen.de&gt;\n",
    "<br>\n",
    "Jens Piekenbrinck &lt;piekenbrinck@vision.rwth-aachen.de&gt;\n",
    "\n",
    "The assignments are **mandatory**!\n",
    "\n",
    "We want to provide you with an interactive learning experience, so the assignments rely on [Jupyter](https://jupyter.org/) notebooks which you can run locally on your computer. The RWTH also offers a [JupyterHub](https://jupyter.rwth-aachen.de/) where you can run notebooks. If you have any questions, please contact us.\n",
    "\n",
    "Make sure you fill in any place in *code cells* that says:\n",
    "```python\n",
    "# YOUR CODE HERE\n",
    "raise NotImplementedError()\n",
    "```\n",
    "\n",
    "Make sure you fill in any place in *text cells* that says:\n",
    "<br>\n",
    "\n",
    "`YOUR ANSWER HERE`\n",
    "\n",
    "\n",
    "### Submission:\n",
    "\n",
    "⏰ Due date: 2023-05-07 23:59:00\n",
    "\n",
    "**Important**:\n",
    "Follow the instructions below when submitting your attempt.\\\n",
    "Submissions not following these instructions will not be graded.\n",
    "\n",
    "1. Submit in **teams of 3 or 4 students**, add their names and matriculation numbers below. Only **one team member should upload** the solutions.\n",
    "2. **Use jupyter notebook**. Other notebook-editing software (e.g. jupyter-lab, pycharm) might corrupt the notebook files and could have issues with displaying matplotlib interactively.\n",
    "3. **Do not remove, modify or duplicate** any given cells, except those in which you need to fill in your implementation. You can add new cells in order to present additional texts or plots.\n",
    "4. **Restart the kernel and re-run the whole notebook** once before submission. After this step, the cell id should be incremental from top to bottom, and all plots should be displayed.\n",
    "5. **Submit only the `.ipynb` files**, do not upload archives (zip, rar, tar, etc.), images or datasets.\n",
    "6. **Do not change the filenames** of the `.ipynb` files."
   ]
  },
  {
   "cell_type": "markdown",
   "metadata": {},
   "source": [
    "Team members (names and matriculation numbers):\n",
    "* \n",
    "* \n",
    "* \n",
    "* "
   ]
  },
  {
   "cell_type": "markdown",
   "metadata": {
    "deletable": false,
    "editable": false,
    "nbgrader": {
     "cell_type": "markdown",
     "checksum": "cf61ed01f96441154701d8f542817296",
     "grade": false,
     "grade_id": "cell-dd5cc37369156752",
     "locked": true,
     "schema_version": 3,
     "solution": false,
     "task": false
    }
   },
   "source": [
    "This exercise includes five parts:\n",
    "1. Gaussian filtering\n",
    "2. Fourier transform\n",
    "3. Image derivatives\n",
    "4. Edge detection\n",
    "5. Hough transform"
   ]
  },
  {
   "cell_type": "code",
   "execution_count": 1,
   "metadata": {
    "deletable": false,
    "editable": false,
    "nbgrader": {
     "cell_type": "code",
     "checksum": "9464c0e3f2287cf082a774a3a5a0b1fc",
     "grade": false,
     "grade_id": "cell-ea82104ac1cf02d8",
     "locked": true,
     "schema_version": 3,
     "solution": false,
     "task": false
    }
   },
   "outputs": [
    {
     "data": {
      "text/html": [
       "<!-- Run this cell to add heading letters per subtask (like a, b, c) -->\n",
       "<style>\n",
       "body {counter-reset: section;}\n",
       "h1:before {counter-increment: section;\n",
       "           content: counter(section, number) \". \";}\n",
       "</style>\n"
      ],
      "text/plain": [
       "<IPython.core.display.HTML object>"
      ]
     },
     "metadata": {},
     "output_type": "display_data"
    }
   ],
   "source": [
    "%%html\n",
    "<!-- Run this cell to add heading letters per subtask (like a, b, c) -->\n",
    "<style>\n",
    "body {counter-reset: section;}\n",
    "h1:before {counter-increment: section;\n",
    "           content: counter(section, number) \". \";}\n",
    "</style>"
   ]
  },
  {
   "cell_type": "code",
   "execution_count": 1,
   "metadata": {
    "deletable": false,
    "editable": false,
    "nbgrader": {
     "cell_type": "code",
     "checksum": "0286afbe91772addffc4b6a1fbc9f6fc",
     "grade": false,
     "grade_id": "cell-63750c7bdb00ed93",
     "locked": true,
     "schema_version": 3,
     "solution": false,
     "task": false
    }
   },
   "outputs": [],
   "source": [
    "%matplotlib notebook\n",
    "import cv2\n",
    "import imageio.v3 as iio\n",
    "import matplotlib as mpl\n",
    "import matplotlib.pyplot as plt\n",
    "import numpy as np\n",
    "from scipy import ndimage"
   ]
  },
  {
   "cell_type": "markdown",
   "metadata": {
    "deletable": false,
    "editable": false,
    "nbgrader": {
     "cell_type": "markdown",
     "checksum": "9ea3b5c5872e1fbb5fb236decf0c9388",
     "grade": false,
     "grade_id": "cell-796243e42a593a0f",
     "locked": true,
     "schema_version": 3,
     "solution": false,
     "task": false
    }
   },
   "source": [
    "# Gaussian filtering\n",
    "In the following, you will implement a method which generates and applies a Gaussian filter for a given variance and number of samples."
   ]
  },
  {
   "cell_type": "code",
   "execution_count": null,
   "metadata": {
    "deletable": false,
    "editable": false,
    "nbgrader": {
     "cell_type": "code",
     "checksum": "d98e433b42dc8f54796576a819122a12",
     "grade": false,
     "grade_id": "cell-12c71e1393632034",
     "locked": true,
     "schema_version": 3,
     "solution": false,
     "task": false
    }
   },
   "outputs": [],
   "source": [
    "# Some convenience functions.\n",
    "\n",
    "\n",
    "def plot_multiple(images, titles, colormap=\"gray\", max_columns=np.inf, share_axes=True):\n",
    "    \"\"\"Plot multiple images as subplots on a grid.\"\"\"\n",
    "    assert len(images) == len(titles)\n",
    "    n_images = len(images)\n",
    "    n_cols = min(max_columns, n_images)\n",
    "    n_rows = int(np.ceil(n_images / n_cols))\n",
    "    fig, axes = plt.subplots(\n",
    "        n_rows,\n",
    "        n_cols,\n",
    "        figsize=(n_cols * 4, n_rows * 4),\n",
    "        squeeze=False,\n",
    "        sharex=share_axes,\n",
    "        sharey=share_axes,\n",
    "    )\n",
    "\n",
    "    axes = axes.flat\n",
    "    # Hide subplots without content\n",
    "    for ax in axes[n_images:]:\n",
    "        ax.axis(\"off\")\n",
    "\n",
    "    if not isinstance(colormap, (list, tuple)):\n",
    "        colormaps = [colormap] * n_images\n",
    "    else:\n",
    "        colormaps = colormap\n",
    "\n",
    "    for ax, image, title, cmap in zip(axes, images, titles, colormaps):\n",
    "        ax.imshow(image, cmap=cmap)\n",
    "        ax.set_title(title)\n",
    "\n",
    "    fig.tight_layout()"
   ]
  },
  {
   "cell_type": "markdown",
   "metadata": {
    "deletable": false,
    "editable": false,
    "nbgrader": {
     "cell_type": "markdown",
     "checksum": "f8d143e1422a2a93956512dd45158983",
     "grade": false,
     "grade_id": "cell-05c9f523b7ff124a",
     "locked": true,
     "schema_version": 3,
     "solution": false,
     "task": false
    }
   },
   "source": [
    "Start by writing a function ``gauss`` which creates a 1D Gaussian from a given vector of integer indices $\\mathtt{x = [-w, \\ldots, w]}$:\n",
    "$$\n",
    "    \\mathtt{G[i]} = \\frac{1}{\\sqrt{2\\pi}\\sigma}\\operatorname{exp}\\biggl(-\\frac{\\mathtt{x[i]}^2}{2\\sigma^2}\\biggr)\n",
    "$$\n",
    "where $\\sigma$ is the standard deviation.\n",
    "\n",
    "Tip: In NumPy the best practice is to use functions on entire arrays at once, instead of iterating over items one by one. This makes the code easier to understand and also faster (since the actual loop is implemented in C under the hood)."
   ]
  },
  {
   "cell_type": "code",
   "execution_count": null,
   "metadata": {
    "deletable": false,
    "nbgrader": {
     "cell_type": "code",
     "checksum": "02cddcfb816df1387f57450539814048",
     "grade": true,
     "grade_id": "cell-cc8f6edd928cdffb",
     "locked": false,
     "points": 1,
     "schema_version": 3,
     "solution": true
    }
   },
   "outputs": [],
   "source": [
    "# POINTS: 1\n",
    "\n",
    "def gauss(x, sigma):\n",
    "    # YOUR CODE HERE\n",
    "    raise NotImplementedError()"
   ]
  },
  {
   "cell_type": "code",
   "execution_count": null,
   "metadata": {
    "deletable": false,
    "editable": false,
    "nbgrader": {
     "cell_type": "code",
     "checksum": "6543052613fb73787a813f1f6db38326",
     "grade": false,
     "grade_id": "cell-099a258c8d73e783",
     "locked": true,
     "schema_version": 3,
     "solution": false,
     "task": false
    }
   },
   "outputs": [],
   "source": [
    "x = np.linspace(-5, 5, 100)\n",
    "y = gauss(x, sigma=2)\n",
    "fig, ax = plt.subplots()\n",
    "ax.plot(x, y)\n",
    "fig.tight_layout()\n",
    "\n",
    "print(\"Gauss of 5 is\", gauss(5, sigma=2))"
   ]
  },
  {
   "cell_type": "markdown",
   "metadata": {
    "deletable": false,
    "editable": false,
    "nbgrader": {
     "cell_type": "markdown",
     "checksum": "bc13ae82edf78235937ac47daff8ae00",
     "grade": false,
     "grade_id": "cell-b2984d372bb5182a",
     "locked": true,
     "schema_version": 3,
     "solution": false,
     "task": false
    }
   },
   "source": [
    "Use the above function to implement a function `gaussian_filter(image, sigma, padding)`, which first generates a Gaussian filter and then applies it to the `image`.\n",
    "The size of the filter should be $2 \\cdot \\lceil 3 \\sigma \\rceil + 1$.\n",
    "Remember that the Gaussian is separable, *i.e.* that an equivalent 2D result can be obtained through a sequence of two 1D filtering operations.\n",
    "Do not use any existing implementation for convolution in this part (e.g. `scipy.ndimage.convolve`).\n",
    "However, you are allowed to use these implementations in the following questions.\n",
    "\n",
    "You do not have to implement padding, but if you choose to, you can use whichever padding method that is reasonable. The output must have the same dimension with the input."
   ]
  },
  {
   "cell_type": "code",
   "execution_count": null,
   "metadata": {
    "deletable": false,
    "nbgrader": {
     "cell_type": "code",
     "checksum": "c419315cfc180ffe1ff02cdab7aa2bca",
     "grade": true,
     "grade_id": "cell-add6d96484bc6c7e",
     "locked": false,
     "points": 5,
     "schema_version": 3,
     "solution": true,
     "task": false
    }
   },
   "outputs": [],
   "source": [
    "# POINTS: 5\n",
    "\n",
    "def gaussian_filter(image, sigma, padding=True):\n",
    "    # YOUR CODE HERE\n",
    "    raise NotImplementedError()\n",
    "    return image_result"
   ]
  },
  {
   "cell_type": "markdown",
   "metadata": {
    "deletable": false,
    "editable": false,
    "nbgrader": {
     "cell_type": "markdown",
     "checksum": "3acbd1c338e5a828501f2a8f2bc4dbf5",
     "grade": false,
     "grade_id": "cell-5a67e4418ba2d1a9",
     "locked": true,
     "schema_version": 3,
     "solution": false,
     "task": false
    }
   },
   "source": [
    "Read the image ``graf_small.png`` and apply the filters with ``sigma = 2``, ``4``, and ``8``.\n",
    "Again, choose the kernel size as $2 \\cdot \\lceil 3 \\sigma\\rceil + 1$.\n",
    "What do you observe?"
   ]
  },
  {
   "cell_type": "code",
   "execution_count": null,
   "metadata": {
    "deletable": false,
    "editable": false,
    "nbgrader": {
     "cell_type": "code",
     "checksum": "26c5b9a6f326c8667239c0e27f504b4d",
     "grade": false,
     "grade_id": "cell-4e57a63100a2a6f5",
     "locked": true,
     "schema_version": 3,
     "solution": false,
     "task": false
    }
   },
   "outputs": [],
   "source": [
    "image = iio.imread(\"graf_small.png\")\n",
    "sigmas = [2, 4, 8]\n",
    "blurred_images = [gaussian_filter(image, s) for s in sigmas]\n",
    "titles = [f\"sigma={s}\" for s in sigmas]\n",
    "\n",
    "plot_multiple(blurred_images, titles)"
   ]
  },
  {
   "cell_type": "markdown",
   "metadata": {
    "deletable": false,
    "editable": false,
    "nbgrader": {
     "cell_type": "markdown",
     "checksum": "c96f1db74c2229ebd721d1cf67452ac5",
     "grade": false,
     "grade_id": "cell-cddf0a455fd28a27",
     "locked": true,
     "schema_version": 3,
     "solution": false,
     "task": false
    }
   },
   "source": [
    "OpenCV has many built-in function for image smoothing.\n",
    "Check out this page:\n",
    "https://docs.opencv.org/3.1.0/d4/d13/tutorial_py_filtering.html\n",
    "\n",
    "Compare the result of ``cv2.GaussianBlur`` with your own implementation by computing the difference image.\n",
    "Was your implementation correct?"
   ]
  },
  {
   "cell_type": "code",
   "execution_count": null,
   "metadata": {
    "deletable": false,
    "editable": false,
    "nbgrader": {
     "cell_type": "code",
     "checksum": "2fd21fbe503a9ad81a2778e96e70285c",
     "grade": false,
     "grade_id": "cell-cc2728a8104625b3",
     "locked": true,
     "schema_version": 3,
     "solution": false,
     "task": false
    }
   },
   "outputs": [],
   "source": [
    "def gauss_cv(image, sigma):\n",
    "    ks = 2 * int(np.ceil(3 * sigma)) + 1\n",
    "    return cv2.GaussianBlur(image, (ks, ks), sigma, cv2.BORDER_DEFAULT)\n",
    "\n",
    "\n",
    "def abs_diff(image1, image2):\n",
    "    image1 = image1.astype(np.float32)\n",
    "    image2 = image2.astype(np.float32)\n",
    "    return np.mean(np.abs(image1 - image2), axis=-1)\n",
    "\n",
    "\n",
    "blurred_images_cv = [gauss_cv(image, s) for s in sigmas]\n",
    "differences = [abs_diff(x, y) for x, y in zip(blurred_images, blurred_images_cv)]\n",
    "\n",
    "plot_multiple(blurred_images_cv, titles)\n",
    "plot_multiple(differences, titles)\n",
    "\n",
    "# Small differences (around 1-2) can be expected because of rounding\n",
    "# Mouse over the difference image and see the value in the corner in square brackets"
   ]
  },
  {
   "cell_type": "markdown",
   "metadata": {
    "deletable": false,
    "editable": false,
    "nbgrader": {
     "cell_type": "markdown",
     "checksum": "66be0daca7bb9a364262336854aee4e8",
     "grade": false,
     "grade_id": "cell-c31c64a0c62a5668",
     "locked": true,
     "schema_version": 3,
     "solution": false,
     "task": false
    }
   },
   "source": [
    "# Fourier transform\n",
    "\n",
    "In this part, we look at the effect of filtering in Fourier space.\n",
    "This gives us a different way of looking at images and yields deeper insights to what is going on when we apply a filter or downsample an image."
   ]
  },
  {
   "cell_type": "code",
   "execution_count": null,
   "metadata": {
    "deletable": false,
    "editable": false,
    "nbgrader": {
     "cell_type": "code",
     "checksum": "7117af003b3c1a6ab2e394f614f25582",
     "grade": false,
     "grade_id": "cell-ac80ddac488a1800",
     "locked": true,
     "schema_version": 3,
     "solution": false,
     "task": false
    }
   },
   "outputs": [],
   "source": [
    "# Some Convenience Functions.\n",
    "\n",
    "\n",
    "def imread_gray(filename):\n",
    "    \"\"\"Read grayscale image from our data directory.\"\"\"\n",
    "    return cv2.imread(filename, cv2.IMREAD_GRAYSCALE).astype(np.float32)\n",
    "\n",
    "\n",
    "def convolve_with_two(image, kernel1, kernel2):\n",
    "    \"\"\"Apply two filters, one after the other.\"\"\"\n",
    "    image = ndimage.convolve(image, kernel1, mode=\"wrap\")\n",
    "    image = ndimage.convolve(image, kernel2, mode=\"wrap\")\n",
    "    return image\n",
    "\n",
    "\n",
    "def fourier_spectrum(im):\n",
    "    normalized_im = im / np.sum(im)\n",
    "    f = np.fft.fft2(normalized_im)\n",
    "    return np.fft.fftshift(f)\n",
    "\n",
    "\n",
    "def log_magnitude_spectrum(im):\n",
    "    return np.log(np.abs(fourier_spectrum(im)) + 1e-8)\n",
    "\n",
    "\n",
    "def plot_with_spectra(images, titles):\n",
    "    \"\"\"Plots a list of images in the first column and the logarithm of their\n",
    "    magnitude spectrum in the second column.\"\"\"\n",
    "\n",
    "    assert len(images) == len(titles)\n",
    "    n_cols = 2\n",
    "    n_rows = len(images)\n",
    "    fig, axes = plt.subplots(n_rows, 2, figsize=(n_cols * 4, n_rows * 4), squeeze=False)\n",
    "\n",
    "    spectra = [log_magnitude_spectrum(im) for im in images]\n",
    "\n",
    "    lower = min(np.percentile(s, 0.1) for s in spectra)\n",
    "    upper = min(np.percentile(s, 99.999) for s in spectra)\n",
    "    normalizer = mpl.colors.Normalize(vmin=lower, vmax=upper)\n",
    "\n",
    "    for ax, image, spectrum, title in zip(axes, images, spectra, titles):\n",
    "        ax[0].imshow(image, cmap=\"gray\")\n",
    "        ax[0].set_title(title)\n",
    "        ax[0].set_axis_off()\n",
    "        c = ax[1].imshow(spectrum, norm=normalizer, cmap=\"viridis\")\n",
    "        ax[1].set_title(\"Log magnitude spectrum\")\n",
    "        ax[1].set_axis_off()\n",
    "\n",
    "    fig.tight_layout()\n",
    "\n",
    "\n",
    "def gauss(x, sigma):\n",
    "    return 1 / np.sqrt(2 * np.pi) / sigma * np.exp(-(x**2) / 2 / sigma**2)\n",
    "\n",
    "\n",
    "def generate_pattern():\n",
    "    x = np.linspace(0, 1, 256, endpoint=False)\n",
    "    y = np.sin(x**2 * 16 * np.pi)\n",
    "    return np.outer(y, y) / 2 + 0.5"
   ]
  },
  {
   "cell_type": "markdown",
   "metadata": {
    "deletable": false,
    "editable": false,
    "nbgrader": {
     "cell_type": "markdown",
     "checksum": "fb2784c8ac03177bc54dbd66540a3c68",
     "grade": false,
     "grade_id": "cell-238824fec0163e13",
     "locked": true,
     "schema_version": 3,
     "solution": false,
     "task": false
    }
   },
   "source": [
    "**Plotting demo:**\n",
    "This is how you can load example images and plot the logarithm of its magnitude spectrum.\n",
    "Low frequencies appear near the center and higher frequencies towards the outside.\n",
    "Greener (lighter) colors mean higher values. The color scale is consistent within the subplots of a single plot, but may differ in different plots."
   ]
  },
  {
   "cell_type": "code",
   "execution_count": null,
   "metadata": {
    "deletable": false,
    "editable": false,
    "nbgrader": {
     "cell_type": "code",
     "checksum": "bb26acde9d4a3509da5ae59a846e1f60",
     "grade": false,
     "grade_id": "cell-11e051f9c3539a1a",
     "locked": true,
     "schema_version": 3,
     "solution": false,
     "task": false
    }
   },
   "outputs": [],
   "source": [
    "im_grass = imread_gray(\"grass.jpg\")\n",
    "im_zebras = imread_gray(\"zebras.jpg\")\n",
    "im_pattern = generate_pattern()\n",
    "plot_with_spectra(\n",
    "    [im_grass, im_zebras, im_pattern], [\"Grass image\", \"Zebra image\", \"Pattern image\"]\n",
    ")"
   ]
  },
  {
   "cell_type": "markdown",
   "metadata": {
    "deletable": false,
    "editable": false,
    "nbgrader": {
     "cell_type": "markdown",
     "checksum": "e1ec0a71799e79dfb682f6f558f7d43a",
     "grade": false,
     "grade_id": "cell-35165fc62439f2eb",
     "locked": true,
     "schema_version": 3,
     "solution": false,
     "task": false
    }
   },
   "source": [
    "## Blurring\n",
    "\n",
    "Consider one of the images (`im_grass` is a good choice). Implement `filter_box(image, sigma)` that outputs the box-filtered version of `image`, using `convolve_with_two` (since the box filter is separable). Compute the size of the box filter as `size = int(round(sigma * 12**0.5))` (read [this paper](https://www.peterkovesi.com/papers/FastGaussianSmoothing.pdf) if you are interested in the math behind this formular). "
   ]
  },
  {
   "cell_type": "code",
   "execution_count": null,
   "metadata": {
    "deletable": false,
    "nbgrader": {
     "cell_type": "code",
     "checksum": "5424f97f4a6ab4e5e532dcbed7466c06",
     "grade": true,
     "grade_id": "cell-43b000bd1a7221ac",
     "locked": false,
     "points": 2,
     "schema_version": 3,
     "solution": true,
     "task": false
    }
   },
   "outputs": [],
   "source": [
    "# POINTS: 2\n",
    "\n",
    "def filter_box(image, sigma):\n",
    "    # YOUR CODE HERE\n",
    "    raise NotImplementedError()"
   ]
  },
  {
   "cell_type": "markdown",
   "metadata": {
    "deletable": false,
    "editable": false,
    "nbgrader": {
     "cell_type": "markdown",
     "checksum": "cdc60e23c33b6797092dea017058fb5f",
     "grade": false,
     "grade_id": "cell-5bb7238fdbeefd9a",
     "locked": true,
     "schema_version": 3,
     "solution": false,
     "task": false
    }
   },
   "source": [
    "Implement `filter_gauss(image, kernel_factor, sigma)` using `convolve_with_two`. The parameter `kernel_factor` defines the half size of the kernel relative to sigma (our rule of thumb from the lecture was to set this as 3)."
   ]
  },
  {
   "cell_type": "code",
   "execution_count": null,
   "metadata": {
    "deletable": false,
    "nbgrader": {
     "cell_type": "code",
     "checksum": "08668fc49fde7c2840f6a5616a189411",
     "grade": true,
     "grade_id": "cell-1981f61890f5181a",
     "locked": false,
     "points": 2,
     "schema_version": 3,
     "solution": true,
     "task": false
    }
   },
   "outputs": [],
   "source": [
    "# POINTS: 2\n",
    "\n",
    "def filter_gauss(image, kernel_factor, sigma):\n",
    "    # YOUR CODE HERE\n",
    "    raise NotImplementedError()"
   ]
  },
  {
   "cell_type": "markdown",
   "metadata": {
    "deletable": false,
    "editable": false,
    "nbgrader": {
     "cell_type": "markdown",
     "checksum": "5c34721f0ffc37de9afcb117de73fa58",
     "grade": false,
     "grade_id": "cell-d704e5f64a94cbf2",
     "locked": true,
     "schema_version": 3,
     "solution": false,
     "task": false
    }
   },
   "source": [
    "Plot the image and its blurred versions (with the box and the Gauss filter) along with their spectra using `plot_with_spectra()`. Vary the size of the box filter. What do you observe? For the Gaussian, change sigma.  What happens if you increase or decrease the `kernel_factor` compared to our rule-of-thumb value 3?"
   ]
  },
  {
   "cell_type": "code",
   "execution_count": null,
   "metadata": {
    "deletable": false,
    "editable": false,
    "nbgrader": {
     "cell_type": "code",
     "checksum": "04c27a483052ae04305ac4a3bb6e9edd",
     "grade": false,
     "grade_id": "cell-1aa436d30ba3add8",
     "locked": true,
     "schema_version": 3,
     "solution": false,
     "task": false
    }
   },
   "outputs": [],
   "source": [
    "sigma = 3\n",
    "im = im_grass\n",
    "gauss_filtered = filter_gauss(im, kernel_factor=6, sigma=sigma)\n",
    "box_filtered = filter_box(im, sigma=sigma)\n",
    "plot_with_spectra(\n",
    "    [im, box_filtered, gauss_filtered], [\"Image\", \"Box filtered\", \"Gauss filtered\"]\n",
    ")"
   ]
  },
  {
   "cell_type": "markdown",
   "metadata": {
    "deletable": false,
    "editable": false,
    "nbgrader": {
     "cell_type": "markdown",
     "checksum": "2ac62faac56dacf7932621e24a3a045e",
     "grade": false,
     "grade_id": "cell-50f9fb9f41c5eb8b",
     "locked": true,
     "schema_version": 3,
     "solution": false,
     "task": false
    }
   },
   "source": [
    "## Sampling and aliasing\n",
    "\n",
    "Implement a function `sample_with_gaps(image, period)`, where `period` is an integer and defines the distance between two sampled points in pixels. The output should have the same size as `image` but have zeros everywhere except at the sampled points, where it should be equal to `image`. For example if `period=2` then every second row and every second column of the image should be zero in the output.\n",
    "\n",
    "In addition, implement `sample_without_gaps(image, period)`, which is like `sample_with_gaps` but the output does not contain gaps (rows and columns of zeros) and therefore the output size is smaller.\n",
    "\n",
    "Hint: These two functions can easily be realized with Numpy indexing (see this [link](https://numpy.org/doc/stable/user/basics.indexing.html#basics-indexing) if you need an introduction). Do not use for-loop."
   ]
  },
  {
   "cell_type": "code",
   "execution_count": null,
   "metadata": {
    "deletable": false,
    "nbgrader": {
     "cell_type": "code",
     "checksum": "6a63b9ceedd9faaac7c6ff6134c89f3f",
     "grade": true,
     "grade_id": "cell-f92f92bffc11138c",
     "locked": false,
     "points": 2,
     "schema_version": 3,
     "solution": true,
     "task": false
    }
   },
   "outputs": [],
   "source": [
    "# POINTS: 2\n",
    "\n",
    "def sample_with_gaps(im, period):\n",
    "    # YOUR CODE HERE\n",
    "    raise NotImplementedError()\n",
    "\n",
    "\n",
    "def sample_without_gaps(im, period):\n",
    "    # YOUR CODE HERE\n",
    "    raise NotImplementedError()"
   ]
  },
  {
   "cell_type": "markdown",
   "metadata": {
    "deletable": false,
    "editable": false,
    "nbgrader": {
     "cell_type": "markdown",
     "checksum": "c7f169ce1d63c86fe3981650c4deed2c",
     "grade": false,
     "grade_id": "cell-4143fa3401e2b32a",
     "locked": true,
     "schema_version": 3,
     "solution": false,
     "task": false
    }
   },
   "source": [
    "Sample the `im_zebras` image with a period of 2 pixels and plot the original and sampled images along with their spectra. \n",
    "What effect do you see in the resulting magnitude spectrum, when sampling with or without gaps?"
   ]
  },
  {
   "cell_type": "code",
   "execution_count": null,
   "metadata": {
    "deletable": false,
    "editable": false,
    "nbgrader": {
     "cell_type": "code",
     "checksum": "f102116f1340e5a22d95749b5fc89e89",
     "grade": false,
     "grade_id": "cell-6a29223ac622161a",
     "locked": true,
     "schema_version": 3,
     "solution": false,
     "task": false
    }
   },
   "outputs": [],
   "source": [
    "N = 4\n",
    "im = im_zebras\n",
    "sampled_gaps = sample_with_gaps(im, N)\n",
    "sampled = sample_without_gaps(im, N)\n",
    "\n",
    "blurred = filter_gauss(im, kernel_factor=6, sigma=4)\n",
    "blurred_and_sampled_gaps = sample_with_gaps(blurred, N)\n",
    "blurred_and_sampled = sample_without_gaps(blurred, N)\n",
    "\n",
    "plot_with_spectra(\n",
    "    [im, sampled_gaps, sampled, blurred, blurred_and_sampled_gaps, blurred_and_sampled],\n",
    "    [\n",
    "        \"Original\",\n",
    "        \"Sampled (w/ gaps)\",\n",
    "        \"Sampled\",\n",
    "        \"Gauss blurred\",\n",
    "        \"Blurred and s. (w/ gaps)\",\n",
    "        \"Blurred and s.\",\n",
    "    ],\n",
    ")"
   ]
  },
  {
   "cell_type": "markdown",
   "metadata": {
    "deletable": false,
    "editable": false,
    "nbgrader": {
     "cell_type": "markdown",
     "checksum": "a86f5de7384201887fbca57d8fbb1d40",
     "grade": false,
     "grade_id": "cell-136813a8f3329a15",
     "locked": true,
     "schema_version": 3,
     "solution": false,
     "task": false
    }
   },
   "source": [
    "Consider the image `im_pattern` and sample it with a period of 4, 8 and 16 and plot the resulting spectra. What happens as you increase the sampling period?\n",
    "Now look at what happens when **Gaussian blurring** is applied before sampling, with different sigma values. Approximately what sigma do you need for avoiding artifacts when `period=16`?"
   ]
  },
  {
   "cell_type": "code",
   "execution_count": null,
   "metadata": {
    "deletable": false,
    "editable": false,
    "nbgrader": {
     "cell_type": "code",
     "checksum": "1fab57acb8fec48e11953465bc870654",
     "grade": false,
     "grade_id": "cell-6b1b6c93e615cf8b",
     "locked": true,
     "schema_version": 3,
     "solution": false,
     "task": false
    }
   },
   "outputs": [],
   "source": [
    "N = 16\n",
    "image = im_pattern\n",
    "downsampled_gaps = sample_with_gaps(im_pattern, N)\n",
    "downsampled = sample_without_gaps(im_pattern, N)\n",
    "\n",
    "blurred = filter_gauss(image, kernel_factor=6, sigma=12)\n",
    "blurred_and_downsampled_gaps = sample_with_gaps(blurred, N)\n",
    "blurred_and_downsampled = sample_without_gaps(blurred, N)\n",
    "\n",
    "plot_with_spectra(\n",
    "    [\n",
    "        im_pattern,\n",
    "        downsampled_gaps,\n",
    "        downsampled,\n",
    "        blurred,\n",
    "        blurred_and_downsampled_gaps,\n",
    "        blurred_and_downsampled,\n",
    "    ],\n",
    "    [\n",
    "        \"Original\",\n",
    "        \"Downsampled (w/ gaps)\",\n",
    "        \"Downsampled (no gaps)\",\n",
    "        \"Gauss blurred\",\n",
    "        \"Blurred and ds. (w/ gaps)\",\n",
    "        \"Blurred and downs. (no gaps)\",\n",
    "    ],\n",
    ")"
   ]
  },
  {
   "cell_type": "markdown",
   "metadata": {
    "deletable": false,
    "editable": false,
    "nbgrader": {
     "cell_type": "markdown",
     "checksum": "c1215909e887e4f9d38aa72f7eca883e",
     "grade": false,
     "grade_id": "cell-a4bfb21a75007804",
     "locked": true,
     "schema_version": 3,
     "solution": false,
     "task": false
    }
   },
   "source": [
    "# Image derivatives\n",
    "This task introduces image derivative operators."
   ]
  },
  {
   "cell_type": "code",
   "execution_count": null,
   "metadata": {
    "deletable": false,
    "editable": false,
    "nbgrader": {
     "cell_type": "code",
     "checksum": "f2964bd5ffbb787393b1f71f94fb051e",
     "grade": false,
     "grade_id": "cell-1c7181be91873cb0",
     "locked": true,
     "schema_version": 3,
     "solution": false,
     "task": false
    }
   },
   "outputs": [],
   "source": [
    "# Some Convenience Functions.\n",
    "\n",
    "\n",
    "def convolve_with_two(image, kernel1, kernel2):\n",
    "    \"\"\"Apply two filters, one after the other.\"\"\"\n",
    "    image = ndimage.convolve(image, kernel1)\n",
    "    image = ndimage.convolve(image, kernel2)\n",
    "    return image\n",
    "\n",
    "\n",
    "def imread_gray(filename):\n",
    "    \"\"\"Read grayscale image.\"\"\"\n",
    "    return cv2.imread(filename, cv2.IMREAD_GRAYSCALE).astype(np.float32)\n",
    "\n",
    "\n",
    "def plot_multiple(images, titles, colormap=\"gray\", max_columns=np.inf, share_axes=True):\n",
    "    \"\"\"Plot multiple images as subplots on a grid.\"\"\"\n",
    "    assert len(images) == len(titles)\n",
    "    n_images = len(images)\n",
    "    n_cols = min(max_columns, n_images)\n",
    "    n_rows = int(np.ceil(n_images / n_cols))\n",
    "    fig, axes = plt.subplots(\n",
    "        n_rows,\n",
    "        n_cols,\n",
    "        figsize=(n_cols * 4, n_rows * 4),\n",
    "        squeeze=False,\n",
    "        sharex=share_axes,\n",
    "        sharey=share_axes,\n",
    "    )\n",
    "\n",
    "    axes = axes.flat\n",
    "    # Hide subplots without content\n",
    "    for ax in axes[n_images:]:\n",
    "        ax.axis(\"off\")\n",
    "\n",
    "    if not isinstance(colormap, (list, tuple)):\n",
    "        colormaps = [colormap] * n_images\n",
    "    else:\n",
    "        colormaps = colormap\n",
    "\n",
    "    for ax, image, title, cmap in zip(axes, images, titles, colormaps):\n",
    "        ax.imshow(image, cmap=cmap)\n",
    "        ax.set_title(title)\n",
    "\n",
    "    fig.tight_layout()\n",
    "\n",
    "\n",
    "def gauss(x, sigma):\n",
    "    return 1.0 / np.sqrt(2.0 * np.pi) / sigma * np.exp(-(x**2) / 2.0 / sigma**2)"
   ]
  },
  {
   "cell_type": "markdown",
   "metadata": {
    "deletable": false,
    "editable": false,
    "nbgrader": {
     "cell_type": "markdown",
     "checksum": "49449ad6fe045b150ebbf01b29d62533",
     "grade": false,
     "grade_id": "cell-39746e8f4f9b43e4",
     "locked": true,
     "schema_version": 3,
     "solution": false,
     "task": false
    }
   },
   "source": [
    "Implement a function for creating a Gaussian derivative filter in 1D according to the following equation\n",
    "\\begin{eqnarray}\n",
    "    \\frac{d}{dx} G &=& \\frac{d}{dx} \\frac{1}{\\sqrt{2\\pi}\\sigma} \\operatorname{exp}\\biggl(-\\frac{x^2}{2\\sigma^2}\\biggr) \\\\\n",
    "\t\t\t       &=& -\\frac{1}{\\sqrt{2\\pi}\\sigma^3}x \\operatorname{exp}\\biggl(-\\frac{x^2}{2\\sigma^2}\\biggr)\n",
    "\\end{eqnarray}\n",
    "Your function should take a vector of integer values $x$ and the standard deviation ``sigma`` as arguments."
   ]
  },
  {
   "cell_type": "code",
   "execution_count": null,
   "metadata": {
    "deletable": false,
    "nbgrader": {
     "cell_type": "code",
     "checksum": "ec4ef2ee337d63da884f5caf8f20ca29",
     "grade": true,
     "grade_id": "cell-71bddd28f48b6637",
     "locked": false,
     "points": 1,
     "schema_version": 3,
     "solution": true,
     "task": false
    }
   },
   "outputs": [],
   "source": [
    "# POINTS: 1\n",
    "\n",
    "def gaussdx(x, sigma):\n",
    "    # YOUR CODE HERE\n",
    "    raise NotImplementedError()"
   ]
  },
  {
   "cell_type": "code",
   "execution_count": null,
   "metadata": {
    "deletable": false,
    "editable": false,
    "nbgrader": {
     "cell_type": "code",
     "checksum": "4113eae06fbdbc9cd044348f31ae7be9",
     "grade": false,
     "grade_id": "cell-1379d1cd8df1c39e",
     "locked": true,
     "schema_version": 3,
     "solution": false,
     "task": false
    }
   },
   "outputs": [],
   "source": [
    "x = np.linspace(-5, 5, 100)\n",
    "y = gaussdx(x, sigma=1.0)\n",
    "fig, ax = plt.subplots()\n",
    "ax.plot(x, y)\n",
    "fig.tight_layout()"
   ]
  },
  {
   "cell_type": "markdown",
   "metadata": {
    "deletable": false,
    "editable": false,
    "nbgrader": {
     "cell_type": "markdown",
     "checksum": "5439b304418fd2c5e3c73301d2874128",
     "grade": false,
     "grade_id": "cell-34bf4276c1d51139",
     "locked": true,
     "schema_version": 3,
     "solution": false,
     "task": false
    }
   },
   "source": [
    "The effect of a filter can be studied by observing its so-called *impulse response*.\n",
    "For this, create a test image in which only the central pixel has a non-zero value (called an *impulse*)."
   ]
  },
  {
   "cell_type": "code",
   "execution_count": null,
   "metadata": {
    "deletable": false,
    "nbgrader": {
     "cell_type": "code",
     "checksum": "61f7a63e383599f45843f3732e9f576b",
     "grade": true,
     "grade_id": "cell-d7885b56a66a5a1c",
     "locked": false,
     "points": 1,
     "schema_version": 3,
     "solution": true,
     "task": false
    }
   },
   "outputs": [],
   "source": [
    "# POINTS: 1\n",
    "\n",
    "def make_impulse_image(size=25):\n",
    "    # YOUR CODE HERE\n",
    "    raise NotImplementedError()\n",
    "    return impulse"
   ]
  },
  {
   "cell_type": "markdown",
   "metadata": {
    "deletable": false,
    "editable": false,
    "nbgrader": {
     "cell_type": "markdown",
     "checksum": "d31c2155df90ca44ee92848b7076aff9",
     "grade": false,
     "grade_id": "cell-ad35bac451f70fc8",
     "locked": true,
     "schema_version": 3,
     "solution": false,
     "task": false
    }
   },
   "source": [
    "What happens when you apply the following filter combinations on the impulse image?\n",
    "\n",
    "- first ``gaussian``, then ``gaussian^T``.\n",
    "- first ``gaussian``, then ``derivative^T``.\n",
    "- first ``derivative``, then ``gaussian^T``.\n",
    "- first ``gaussian^T``, then ``derivative``.\n",
    "- first ``derivative^T``, then ``gaussian``.\n",
    "\n",
    "Display the result images with the `plot_multiple` function. Describe your result."
   ]
  },
  {
   "cell_type": "code",
   "execution_count": null,
   "metadata": {
    "deletable": false,
    "editable": false,
    "nbgrader": {
     "cell_type": "code",
     "checksum": "77b4a6771de52c0afdfb3655daf59aab",
     "grade": false,
     "grade_id": "cell-77a0db55a8d16303",
     "locked": true,
     "schema_version": 3,
     "solution": false,
     "task": false
    }
   },
   "outputs": [],
   "source": [
    "# create kernels\n",
    "sigma = 6.0\n",
    "kernel_radius = int(3.0 * sigma)\n",
    "x = np.arange(-kernel_radius, kernel_radius + 1)[np.newaxis]\n",
    "G = gauss(x, sigma)\n",
    "D = gaussdx(x, sigma)\n",
    "\n",
    "impulse = make_impulse_image()\n",
    "images = [\n",
    "    impulse,\n",
    "    convolve_with_two(impulse, G, G.T),\n",
    "    convolve_with_two(impulse, G, D.T),\n",
    "    convolve_with_two(impulse, D, G.T),\n",
    "    convolve_with_two(impulse, G.T, D),\n",
    "    convolve_with_two(impulse, D.T, G),\n",
    "]\n",
    "\n",
    "titles = [\n",
    "    \"original\",\n",
    "    \"first G, then G^T\",\n",
    "    \"first G, then D^T\",\n",
    "    \"first D, then G^T\",\n",
    "    \"first G^T, then D\",\n",
    "    \"first D^T, then G\",\n",
    "]\n",
    "\n",
    "plot_multiple(images, titles, max_columns=3)"
   ]
  },
  {
   "cell_type": "markdown",
   "metadata": {
    "deletable": false,
    "editable": false,
    "nbgrader": {
     "cell_type": "markdown",
     "checksum": "78a5832a482d64a0a09a6ab24536b0e5",
     "grade": false,
     "grade_id": "cell-7f8518184518d54c",
     "locked": true,
     "schema_version": 3,
     "solution": false,
     "task": false
    }
   },
   "source": [
    "Create a new function ``gaussderiv`` using the functions ``gauss`` and ``gaussdx`` directly.\n",
    "The new function should return the 2D Gaussian derivatives of an input image in $x$ and $y$ direction.\n",
    "Try the function on the given example images."
   ]
  },
  {
   "cell_type": "code",
   "execution_count": null,
   "metadata": {
    "deletable": false,
    "nbgrader": {
     "cell_type": "code",
     "checksum": "2989fa368b55fbb422a204311065fec9",
     "grade": true,
     "grade_id": "cell-c1dbe176a9830345",
     "locked": false,
     "points": 2,
     "schema_version": 3,
     "solution": true,
     "task": false
    }
   },
   "outputs": [],
   "source": [
    "# POINTS: 2\n",
    "\n",
    "def gauss_derivs(image, sigma):\n",
    "    kernel_radius = int(3.0 * sigma)\n",
    "    # YOUR CODE HERE\n",
    "    raise NotImplementedError()\n",
    "    return image_dx, image_dy"
   ]
  },
  {
   "cell_type": "code",
   "execution_count": null,
   "metadata": {
    "deletable": false,
    "editable": false,
    "nbgrader": {
     "cell_type": "code",
     "checksum": "27637046b113db1edf4a3f51cab5daa2",
     "grade": false,
     "grade_id": "cell-6fe45fcf6e12d64a",
     "locked": true,
     "schema_version": 3,
     "solution": false,
     "task": false
    }
   },
   "outputs": [],
   "source": [
    "image = imread_gray(\"tomatoes.png\")\n",
    "grad_dx, grad_dy = gauss_derivs(image, sigma=5.0)\n",
    "plot_multiple(\n",
    "    [image, grad_dx, grad_dy],\n",
    "    [\"Image\", \"Derivative in x-direction\", \"Derivative in y-direction\"],\n",
    ")"
   ]
  },
  {
   "cell_type": "markdown",
   "metadata": {
    "deletable": false,
    "editable": false,
    "nbgrader": {
     "cell_type": "markdown",
     "checksum": "7f99fe94c98ec25663e0abb82270dd7c",
     "grade": false,
     "grade_id": "cell-da7b0c6b2b37e752",
     "locked": true,
     "schema_version": 3,
     "solution": false,
     "task": false
    }
   },
   "source": [
    "In a similar manner, create a new function ``gauss_second_derivs`` that returns the 2D second Gaussian derivatives $\\frac{d^2}{dx^2}$, $\\frac{d^2}{dx dy}$ and $\\frac{d^2}{dy^2}$ of an input image.\n",
    "Try the function on the given example images."
   ]
  },
  {
   "cell_type": "code",
   "execution_count": null,
   "metadata": {
    "deletable": false,
    "nbgrader": {
     "cell_type": "code",
     "checksum": "4ad8793b79f64cb0f12e963d712fc300",
     "grade": true,
     "grade_id": "cell-fca3722dfbb99335",
     "locked": false,
     "points": 2,
     "schema_version": 3,
     "solution": true,
     "task": false
    }
   },
   "outputs": [],
   "source": [
    "# POINTS: 2\n",
    "\n",
    "def gauss_second_derivs(image, sigma):\n",
    "    kernel_radius = int(3.0 * sigma)\n",
    "    # YOUR CODE HERE\n",
    "    raise NotImplementedError()\n",
    "\n",
    "    return image_dxx, image_dxy, image_dyy"
   ]
  },
  {
   "cell_type": "code",
   "execution_count": null,
   "metadata": {
    "deletable": false,
    "editable": false,
    "nbgrader": {
     "cell_type": "code",
     "checksum": "4394002f6e7ba85c7b9a9d3b4301108e",
     "grade": false,
     "grade_id": "cell-be82eed8ce4f65e7",
     "locked": true,
     "schema_version": 3,
     "solution": false,
     "task": false
    }
   },
   "outputs": [],
   "source": [
    "image = imread_gray(\"coins1.jpg\")\n",
    "grad_dxx, grad_dxy, grad_dyy = gauss_second_derivs(image, sigma=2.0)\n",
    "plot_multiple([image, grad_dxx, grad_dxy, grad_dyy], [\"Image\", \"Dxx\", \"Dxy\", \"Dyy\"])"
   ]
  },
  {
   "cell_type": "code",
   "execution_count": null,
   "metadata": {
    "deletable": false,
    "editable": false,
    "nbgrader": {
     "cell_type": "code",
     "checksum": "08294312192bcdc90e125372065a2f3a",
     "grade": false,
     "grade_id": "cell-0373b64aef70468d",
     "locked": true,
     "schema_version": 3,
     "solution": false,
     "task": false
    }
   },
   "outputs": [],
   "source": [
    "image = imread_gray(\"circuit.png\")\n",
    "grad_dxx, grad_dxy, grad_dyy = gauss_second_derivs(image, sigma=2.0)\n",
    "plot_multiple([image, grad_dxx, grad_dxy, grad_dyy], [\"Image\", \"Dxx\", \"Dxy\", \"Dyy\"])"
   ]
  },
  {
   "cell_type": "markdown",
   "metadata": {
    "deletable": false,
    "editable": false,
    "nbgrader": {
     "cell_type": "markdown",
     "checksum": "79cf6bb3a2de41f85b8747f3fa5cb3f4",
     "grade": false,
     "grade_id": "cell-0f5dcc0ab061ce88",
     "locked": true,
     "schema_version": 3,
     "solution": false,
     "task": false
    }
   },
   "source": [
    "Create a new function ``image_gradients_polar`` that returns two images with the magnitude and orientation of the gradient for each pixel of the input image. Try the function on the given example images."
   ]
  },
  {
   "cell_type": "code",
   "execution_count": null,
   "metadata": {
    "deletable": false,
    "nbgrader": {
     "cell_type": "code",
     "checksum": "7448d5ff5f9c2cc75d83766f4875cf68",
     "grade": true,
     "grade_id": "cell-8a07e53b0fe692ef",
     "locked": false,
     "points": 2,
     "schema_version": 3,
     "solution": true,
     "task": false
    }
   },
   "outputs": [],
   "source": [
    "# POINTS: 2\n",
    "\n",
    "def image_gradients_polar(image, sigma):\n",
    "    # YOUR CODE HERE\n",
    "    raise NotImplementedError()\n",
    "    return magnitude, direction"
   ]
  },
  {
   "cell_type": "code",
   "execution_count": null,
   "metadata": {
    "deletable": false,
    "editable": false,
    "nbgrader": {
     "cell_type": "code",
     "checksum": "40a8e350467556fc0138f6dd6a71592e",
     "grade": false,
     "grade_id": "cell-ad307dea6bdf344c",
     "locked": true,
     "schema_version": 3,
     "solution": false,
     "task": false
    }
   },
   "outputs": [],
   "source": [
    "image = imread_gray(\"coins1.jpg\")\n",
    "grad_mag, grad_dir = image_gradients_polar(image, sigma=2.0)\n",
    "\n",
    "# Note: the twilight colormap only works since Matplotlib 3.0, use 'gray' in earlier versions.\n",
    "plot_multiple(\n",
    "    [image, grad_mag, grad_dir],\n",
    "    [\"Image\", \"Magnitude\", \"Direction\"],\n",
    "    colormap=[\"gray\", \"gray\", \"twilight\"],\n",
    ")"
   ]
  },
  {
   "cell_type": "code",
   "execution_count": null,
   "metadata": {
    "deletable": false,
    "editable": false,
    "nbgrader": {
     "cell_type": "code",
     "checksum": "d01348c1ee89ff7a19a01ae5afc07424",
     "grade": false,
     "grade_id": "cell-12e886a64c8182ea",
     "locked": true,
     "schema_version": 3,
     "solution": false,
     "task": false
    }
   },
   "outputs": [],
   "source": [
    "image = imread_gray(\"circuit.png\")\n",
    "grad_mag, grad_theta = image_gradients_polar(image, sigma=2.0)\n",
    "plot_multiple(\n",
    "    [image, grad_mag, grad_theta],\n",
    "    [\"Image\", \"Magnitude\", \"Direction\"],\n",
    "    colormap=[\"gray\", \"gray\", \"twilight\"],\n",
    ")"
   ]
  },
  {
   "cell_type": "markdown",
   "metadata": {
    "deletable": false,
    "editable": false,
    "nbgrader": {
     "cell_type": "markdown",
     "checksum": "f1a1686c753789b0ae57d36f563ddf1d",
     "grade": false,
     "grade_id": "cell-a8c41842a29b1a10",
     "locked": true,
     "schema_version": 3,
     "solution": false,
     "task": false
    }
   },
   "source": [
    "Create a new function ``laplace`` that returns an image with the Laplacian-of-Gaussian for each pixel of the input image.\n",
    "Try the function on the given example images"
   ]
  },
  {
   "cell_type": "code",
   "execution_count": null,
   "metadata": {
    "deletable": false,
    "nbgrader": {
     "cell_type": "code",
     "checksum": "6e5f1ad4dd953fcff4adc56b59d39500",
     "grade": true,
     "grade_id": "cell-9cc2af0d4458b852",
     "locked": false,
     "points": 2,
     "schema_version": 3,
     "solution": true,
     "task": false
    }
   },
   "outputs": [],
   "source": [
    "# POINTS: 2\n",
    "\n",
    "def laplace(image, sigma):\n",
    "    # YOUR CODE HERE\n",
    "    raise NotImplementedError()"
   ]
  },
  {
   "cell_type": "code",
   "execution_count": null,
   "metadata": {
    "deletable": false,
    "editable": false,
    "nbgrader": {
     "cell_type": "code",
     "checksum": "05f9937bedd86463cbfa1526de1f546b",
     "grade": false,
     "grade_id": "cell-3b5f255c2c0514be",
     "locked": true,
     "schema_version": 3,
     "solution": false,
     "task": false
    }
   },
   "outputs": [],
   "source": [
    "image = imread_gray(\"coins1.jpg\")\n",
    "lap = laplace(image, sigma=2.0)\n",
    "plot_multiple([image, lap], [\"Image\", \"Laplace\"])"
   ]
  },
  {
   "cell_type": "code",
   "execution_count": null,
   "metadata": {
    "deletable": false,
    "editable": false,
    "nbgrader": {
     "cell_type": "code",
     "checksum": "b018869398b32a86106c252de2cd90a0",
     "grade": false,
     "grade_id": "cell-7a60badcc5c219f5",
     "locked": true,
     "schema_version": 3,
     "solution": false,
     "task": false
    }
   },
   "outputs": [],
   "source": [
    "image = imread_gray(\"circuit.png\")\n",
    "lap = laplace(image, sigma=2.0)\n",
    "plot_multiple([image, lap], [\"Image\", \"Laplace\"])"
   ]
  },
  {
   "cell_type": "markdown",
   "metadata": {
    "deletable": false,
    "editable": false,
    "nbgrader": {
     "cell_type": "markdown",
     "checksum": "c22301fa4417b6c56c2404dfb1538211",
     "grade": false,
     "grade_id": "cell-b3e2563c16cf27fa",
     "locked": true,
     "schema_version": 3,
     "solution": false,
     "task": false
    }
   },
   "source": [
    "# Edge detection\n",
    "In this part we will create a simple edge detector. \n",
    "\n",
    "**Note:** you will need `gauss_derivs` and `image_gradients_polar` functions from the task \"Image derivatives\". "
   ]
  },
  {
   "cell_type": "code",
   "execution_count": null,
   "metadata": {
    "deletable": false,
    "editable": false,
    "nbgrader": {
     "cell_type": "code",
     "checksum": "ccf7e924351833c18269cba3045e5721",
     "grade": false,
     "grade_id": "cell-cabb22b059dab5b6",
     "locked": true,
     "schema_version": 3,
     "solution": false,
     "task": false
    }
   },
   "outputs": [],
   "source": [
    "# Some convenience functions.\n",
    "\n",
    "\n",
    "def convolve_with_two(image, kernel1, kernel2):\n",
    "    \"\"\"Apply two filters, one after the other.\"\"\"\n",
    "    image = ndimage.convolve(image, kernel1)\n",
    "    image = ndimage.convolve(image, kernel2)\n",
    "    return image\n",
    "\n",
    "\n",
    "def plot_multiple(\n",
    "    images, titles, colormap=\"gray\", max_columns=np.inf, imsize=4, share_axes=True\n",
    "):\n",
    "    \"\"\"Plot multiple images as subplots on a grid.\"\"\"\n",
    "    assert len(images) == len(titles)\n",
    "    n_images = len(images)\n",
    "    n_cols = min(max_columns, n_images)\n",
    "    n_rows = int(np.ceil(n_images / n_cols))\n",
    "    fig, axes = plt.subplots(\n",
    "        n_rows,\n",
    "        n_cols,\n",
    "        figsize=(n_cols * imsize, n_rows * imsize),\n",
    "        squeeze=False,\n",
    "        sharex=share_axes,\n",
    "        sharey=share_axes,\n",
    "    )\n",
    "\n",
    "    axes = axes.flat\n",
    "    # Hide subplots without content\n",
    "    for ax in axes[n_images:]:\n",
    "        ax.axis(\"off\")\n",
    "\n",
    "    if not isinstance(colormap, (list, tuple)):\n",
    "        colormaps = [colormap] * n_images\n",
    "    else:\n",
    "        colormaps = colormap\n",
    "\n",
    "    for ax, image, title, cmap in zip(axes, images, titles, colormaps):\n",
    "        ax.imshow(image, cmap=cmap)\n",
    "        ax.set_title(title)\n",
    "\n",
    "    fig.tight_layout()"
   ]
  },
  {
   "cell_type": "markdown",
   "metadata": {
    "deletable": false,
    "editable": false,
    "nbgrader": {
     "cell_type": "markdown",
     "checksum": "965392cefe95b9a76c95881cb79bf401",
     "grade": false,
     "grade_id": "cell-2ea92cf0cfae0e48",
     "locked": true,
     "schema_version": 3,
     "solution": false,
     "task": false
    }
   },
   "source": [
    "Write a function ``get_edges`` that returns a binary image ``edge`` from an input image where the color of each pixel $p$ is selected as follows (for a given threshold ``theta``):\n",
    "\\begin{eqnarray}\n",
    "    p &=&\n",
    "    \\begin{cases}\n",
    "        1, &\\text{ if }\\left|\\operatorname{grad}(\\mathtt{img})\\right|(p) \\geq \\theta\\\\\n",
    "        0, &\\text{ else}\n",
    "    \\end{cases}\n",
    "\\end{eqnarray}\n",
    "Experiment with the function ``get_edges`` on the example images.\n",
    "Try to get good edge images for different values of ``sigma``.\n",
    "What difficulties do you observe when selecting ``sigma`` and ``theta``?"
   ]
  },
  {
   "cell_type": "code",
   "execution_count": null,
   "metadata": {
    "deletable": false,
    "nbgrader": {
     "cell_type": "code",
     "checksum": "ef2bb80cab235206399c1852f4597014",
     "grade": true,
     "grade_id": "cell-95fbcbccfc0fc900",
     "locked": false,
     "points": 1,
     "schema_version": 3,
     "solution": true
    }
   },
   "outputs": [],
   "source": [
    "# POINTS: 1\n",
    "\n",
    "def get_edges(image, sigma, theta):\n",
    "    # YOUR CODE HERE\n",
    "    raise NotImplementedError()"
   ]
  },
  {
   "cell_type": "code",
   "execution_count": null,
   "metadata": {
    "deletable": false,
    "editable": false,
    "nbgrader": {
     "cell_type": "code",
     "checksum": "632173f8665255addf8f93150dd97f07",
     "grade": false,
     "grade_id": "cell-d070956bd54e5d5e",
     "locked": true,
     "schema_version": 3,
     "solution": false,
     "task": false
    }
   },
   "outputs": [],
   "source": [
    "color_im = iio.imread(\"gantrycrane.png\")\n",
    "gray_im = cv2.cvtColor(color_im, cv2.COLOR_RGB2GRAY).astype(np.float32)\n",
    "plot_multiple([gray_im], [\"Image\"])\n",
    "\n",
    "sigmas = [1, 2]\n",
    "thetas = [1, 2, 5, 10, 20, 40, 60]\n",
    "\n",
    "images = []\n",
    "titles = []\n",
    "for sigma in sigmas:\n",
    "    for theta in thetas:\n",
    "        edges = get_edges(gray_im, sigma, theta)\n",
    "        images.append(edges)\n",
    "        titles.append(f\"sigma={sigma}, theta={theta}\")\n",
    "\n",
    "plot_multiple(images, titles, max_columns=7, imsize=2)"
   ]
  },
  {
   "cell_type": "markdown",
   "metadata": {
    "deletable": false,
    "editable": false,
    "nbgrader": {
     "cell_type": "markdown",
     "checksum": "fea894a5e07cc3383cd00ce7d694debd",
     "grade": false,
     "grade_id": "cell-ab02a80995f9c982",
     "locked": true,
     "schema_version": 3,
     "solution": false,
     "task": false
    }
   },
   "source": [
    "Using the above function, returned edges are still several pixels wide.\n",
    "In practice, this is often not desired.\n",
    "Create a function ``get_edges_with_nms`` that extends ``get_edges`` by using the following function to suppress non-maximum points along the gradient direction.\n",
    "\n",
    "Note that this simplified code does not interpolate between the neighboring pixel values in order to look up the real magnitude samples along the gradient direction.\n",
    "This interpolation is crucial to obtain the necessary robustness for an actual implementation.\n",
    "Here it was left out for better readability, since the interpolation involves some extra effort in order to deal with all special cases (e.g. exactly horizontal or vertical gradients).\n",
    "If you feel motivated, you can try to add this step to make the function more robust."
   ]
  },
  {
   "cell_type": "code",
   "execution_count": null,
   "metadata": {
    "deletable": false,
    "nbgrader": {
     "cell_type": "code",
     "checksum": "2d004a1dbc1fc88b7aee7329f90a419a",
     "grade": true,
     "grade_id": "cell-965edb7fde929842",
     "locked": false,
     "points": 4,
     "schema_version": 3,
     "solution": true
    }
   },
   "outputs": [],
   "source": [
    "# POINTS: 4\n",
    "\n",
    "def nms_for_canny(grad_mag, grad_dir):\n",
    "    result = np.zeros_like(grad_mag)\n",
    "\n",
    "    # Pre-define pixel index offset along different orientation\n",
    "    offsets_x = [-1, -1, 0, 1, 1, 1, 0, -1, -1]\n",
    "    offsets_y = [0, -1, -1, -1, 0, 1, 1, 1, 0]\n",
    "    height, width = grad_mag.shape\n",
    "    for y in range(1, height - 1):\n",
    "        for x in range(1, width - 1):\n",
    "            # YOUR CODE HERE\n",
    "            raise NotImplementedError()\n",
    "\n",
    "    return result"
   ]
  },
  {
   "cell_type": "markdown",
   "metadata": {
    "deletable": false,
    "editable": false,
    "nbgrader": {
     "cell_type": "markdown",
     "checksum": "f1bc1f1b5d85e0866b469dd300cf69e1",
     "grade": false,
     "grade_id": "cell-ac06d7d2d7e2a14a",
     "locked": true,
     "schema_version": 3,
     "solution": false,
     "task": false
    }
   },
   "source": [
    "Another problem is that suitable values for ``theta`` may vary substantially between images.\n",
    "Extend the function ``get_edges_with_nms`` such that the threshold $\\theta \\in [0,1]$ is defined relative to the maximal gradient magnitude value in the image."
   ]
  },
  {
   "cell_type": "code",
   "execution_count": null,
   "metadata": {
    "deletable": false,
    "nbgrader": {
     "cell_type": "code",
     "checksum": "a91c4265e8b4ebf60b933e318c745d3e",
     "grade": true,
     "grade_id": "cell-1b4393e5c8f86359",
     "locked": false,
     "points": 1,
     "schema_version": 3,
     "solution": true
    }
   },
   "outputs": [],
   "source": [
    "# POINTS: 1\n",
    "\n",
    "def get_edges_with_nms(image, sigma, theta):\n",
    "    # YOUR CODE HERE\n",
    "    raise NotImplementedError()"
   ]
  },
  {
   "cell_type": "code",
   "execution_count": null,
   "metadata": {
    "deletable": false,
    "editable": false,
    "nbgrader": {
     "cell_type": "code",
     "checksum": "5ede21f7e1da7296c351c4efc4d69b72",
     "grade": false,
     "grade_id": "cell-f5e1b6aadc2c43ab",
     "locked": true,
     "schema_version": 3,
     "solution": false,
     "task": false
    }
   },
   "outputs": [],
   "source": [
    "edges1 = get_edges(gray_im, sigma=2, theta=5)\n",
    "edges2 = get_edges_with_nms(\n",
    "    gray_im, sigma=2, theta=0.17\n",
    ")  # 0.17 corresponds to an absolute threshold of 5\n",
    "\n",
    "plot_multiple([edges1, edges2], [\"get_edges\", \"get_edges_with_nms\"], imsize=6)"
   ]
  },
  {
   "cell_type": "markdown",
   "metadata": {
    "deletable": false,
    "editable": false,
    "nbgrader": {
     "cell_type": "markdown",
     "checksum": "2ab7884326f4aebcc5b60aad2d26defe",
     "grade": false,
     "grade_id": "cell-7cd40ea6cb6e4c80",
     "locked": true,
     "schema_version": 3,
     "solution": false,
     "task": false
    }
   },
   "source": [
    "The function ``get_edges`` you implemented is a simplified version of the Canny edge detection pipeline.\n",
    "The main step that is still missing is the edge following with hysteresis thresholding.\n",
    "The idea here is that instead of applying a single threshold over the entire image, the edge detector works with two different thresholds ``theta_high`` and ``theta_low``.\n",
    "It starts with an edge pixel with a value above ``theta_high`` and then follows the contour in the direction orthogonal to the gradient until the pixel value falls below ``theta_low``.\n",
    "Each pixel visited along the way is labeled as an edge.\n",
    "The procedure is repeated until no further pixel above ``theta_high`` remains.\n",
    "\n",
    "Try writing a function ``my_canny`` that implements this procedure.\n",
    "Don't worry about efficiency for the moment.\n",
    "You may use the provided function skeleton to help you get started but can also start from scratch. The following hints may help you:\n",
    "- You can create a boolean array ``visited`` for already visited and yet-to-visit image pixels. Since we are not interested in pixels below the low threshold you can mark them as visited. In another boolean array you can flag the pixels that serve as starting points for line following.\n",
    "- You can also avoid having to deal with special cases along the image borders by creating a 1-pixel boundary where the ``visited`` flag is set to ``true``.\n",
    "- The actual edge following part is most easily implemented as a recursive procedure. In most cases, you will have the option to choose between several possible continuation points. Again, the easiest way is to try all of them in sequence (or even all 8 neighbors) and let the recursive procedure (together with the ``visited`` flags) do the rest."
   ]
  },
  {
   "cell_type": "code",
   "execution_count": null,
   "metadata": {
    "deletable": false,
    "nbgrader": {
     "cell_type": "code",
     "checksum": "7fa3a0a7762657b7ec921c0439fa6e91",
     "grade": true,
     "grade_id": "cell-3ad713f1d3f174ac",
     "locked": false,
     "points": 5,
     "schema_version": 3,
     "solution": true
    }
   },
   "outputs": [],
   "source": [
    "# POINTS: 5\n",
    "\n",
    "def my_canny(image, sigma, theta_low, theta_high):\n",
    "    # Compute gradient, apply non-maximum suppression\n",
    "    # YOUR CODE HERE\n",
    "    raise NotImplementedError()\n",
    "\n",
    "    # Compute absolute threshold relative to max value\n",
    "    max_val = np.max(grad_mag)\n",
    "    theta_low_abs = theta_low * max_val\n",
    "    theta_high_abs = theta_high * max_val\n",
    "\n",
    "    # Initialize flags\n",
    "    # Declare all pixels below the low threshold as visited\n",
    "    # so edges are not followed there\n",
    "    visited = grad_mag < theta_low_abs\n",
    "\n",
    "    # Mark boundary pixels as visited\n",
    "    visited[:, 0] = 1\n",
    "    visited[:, -1] = 1\n",
    "    visited[0, :] = 1\n",
    "    visited[-1, :] = 1\n",
    "\n",
    "    # Output image\n",
    "    image_out = np.zeros_like(image)\n",
    "\n",
    "    def follow_edge(x, y):\n",
    "        visited[y, x] = True\n",
    "        image_out[y, x] = 255\n",
    "\n",
    "        # Pre-define pixel index offset along different orientation\n",
    "        offsets_x = [-1, -1, 0, 1, 1, 1, 0, -1]\n",
    "        offsets_y = [0, -1, -1, -1, 0, 1, 1, 1]\n",
    "\n",
    "        for ox, oy in zip(offsets_x, offsets_y):\n",
    "            # Note: `visited` is already False for points\n",
    "            # below the low threshold.\n",
    "\n",
    "            # YOUR CODE HERE\n",
    "            raise NotImplementedError()\n",
    "\n",
    "    is_high = grad_mag >= theta_high_abs\n",
    "    # Main loop\n",
    "    for x in range(image.shape[1]):\n",
    "        for y in range(image.shape[0]):\n",
    "            # YOUR CODE HERE\n",
    "            raise NotImplementedError()\n",
    "\n",
    "    return image_out"
   ]
  },
  {
   "cell_type": "markdown",
   "metadata": {
    "deletable": false,
    "editable": false,
    "nbgrader": {
     "cell_type": "markdown",
     "checksum": "6a486a36f269fcc3da04f1a11b1cec9a",
     "grade": false,
     "grade_id": "cell-b55b3242045db9da",
     "locked": true,
     "schema_version": 3,
     "solution": false,
     "task": false
    }
   },
   "source": [
    "OpenCV provides a built-in function that implements the Canny edge detector.\n",
    "https://docs.opencv.org/3.4/da/d5c/tutorial_canny_detector.html\n",
    "Try ``cv2.Canny`` on the provided example images and compare the results to those of your implementation.\n",
    "Note: the implementation of ``cv2.Canny`` does not include blurring the image as we did.\n",
    "So apply ``cv2.GaussianBlur`` on the image, before passing it to ``cv2.Canny``."
   ]
  },
  {
   "cell_type": "code",
   "execution_count": null,
   "metadata": {
    "deletable": false,
    "editable": false,
    "nbgrader": {
     "cell_type": "code",
     "checksum": "976d2a1173a2161357ef0e3a6ac73a93",
     "grade": false,
     "grade_id": "cell-b9b3bf2a1933c1c2",
     "locked": true,
     "schema_version": 3,
     "solution": false,
     "task": false
    }
   },
   "outputs": [],
   "source": [
    "edge_canny = my_canny(gray_im, sigma=2, theta_low=0.1, theta_high=0.3)\n",
    "\n",
    "blurred_cv = cv2.GaussianBlur(gray_im, ksize=(7, 7), sigmaX=2)\n",
    "edge_canny_cv = cv2.Canny(blurred_cv.astype(np.uint8), 39, 72, L2gradient=True).astype(\n",
    "    np.float32\n",
    ")\n",
    "\n",
    "plot_multiple(\n",
    "    [edge_canny, edge_canny_cv, edge_canny - edge_canny_cv],\n",
    "    [\"my_canny\", \"cv2.Canny\", \"Difference\"],\n",
    "    imsize=5,\n",
    ")"
   ]
  },
  {
   "cell_type": "markdown",
   "metadata": {
    "deletable": false,
    "editable": false,
    "nbgrader": {
     "cell_type": "markdown",
     "checksum": "7ba0f31c6ef38ee3a534d7f1da3f2c5f",
     "grade": false,
     "grade_id": "cell-87f269175d23ffe8",
     "locked": true,
     "schema_version": 3,
     "solution": false,
     "task": false
    }
   },
   "source": [
    "## [OPTIONAL] Improved edge detector\n",
    "This solution gives better results, but its results still depend strongly on the maximal gradient magnitude value in the image.\n",
    "For a cleaner solution, we want to adapt the threshold to the distribution of all gradient magnitude values, such that we can directly control the number of edge pixels we get.\n",
    "Extend the function `get_edges` by the following steps in order to do this:\n",
    "\n",
    "- Perform non-maximum suppression on the gradient magnitude image as shown above.\n",
    "- Transform the result image into a vector.\n",
    "- Build a histogram of the remaining gradient magnitude values.\n",
    "- Compute the cumulative sum over the histogram (except for the first cell).\n",
    "- The last cell of the cumulative histogram now contains the total number of edge pixels in the image, `num_total_edge_pixels`. Compute the desired number of edge pixels `num_desired_edge_pixels` as the percentage `theta` of `num_total_edge_pixels`.\n",
    "- Find the threshold for which the cumulative histogram contains the value `num_desired_edge_pixels`."
   ]
  },
  {
   "cell_type": "code",
   "execution_count": null,
   "metadata": {
    "deletable": false,
    "nbgrader": {
     "cell_type": "code",
     "checksum": "2645afa6cd0f44df6842a328481f2657",
     "grade": true,
     "grade_id": "cell-3dfd1f9031772205",
     "locked": false,
     "points": 0,
     "schema_version": 3,
     "solution": true,
     "task": false
    }
   },
   "outputs": [],
   "source": [
    "# YOUR CODE HERE\n",
    "raise NotImplementedError()"
   ]
  },
  {
   "cell_type": "markdown",
   "metadata": {},
   "source": [
    "# Hough transform\n",
    "\n",
    "In this task, we will implement a Hough transform in order to detect parametric curves, such as lines or circles.\n",
    "In the following, we shortly review the motivation for this technique.\n",
    "\n",
    "Consider the point $p=(\\mathtt{x},\\mathtt{y})$ and the equation for a line $y = mx+c$. What are the lines that could pass through $p$?\n",
    "The answer is simple: all the lines for which $m$ and $c$ satisfy $\\mathtt{y} = m\\mathtt{x}+c$.\n",
    "Regarding $(\\mathtt{x},\\mathtt{y})$ as fixed, the last equation is that of a line in $(m,c)$-space.\n",
    "Repeating this reasoning, a second point $p'=(\\mathtt{x}',\\mathtt{y}')$ will also have an associated line in parameter space, and the two lines will intersect at the point $(\\tilde{m},\\tilde{c})$, which corresponds to the line connecting $p$ and $p'$.\n",
    "\n",
    "In order to find lines in the input image, we can thus pursue the following approach.\n",
    "We start with an empty accumulator array quantizing the parameter space for $m$ and $c$.\n",
    "For each edge pixel in the input image, we then draw a line in the accumulator array and increment the corresponding cells.\n",
    "Edge pixels on the same line in the input image will produce intersecting lines in $(m,c)$-space and will thus reinforce the intersection point.\n",
    "Maxima in this array thus correspond to lines in the input image that many edge pixels agree on.\n",
    "\n",
    "In practice, the parametrization in terms of $m$ and $c$ is problematic, since the slope $m$ may become infinite.\n",
    "Instead, we use the following parametrization in polar coordinates:\n",
    "\\begin{equation}\n",
    "    \\mathtt{x}\\cos\\theta + \\mathtt{y}\\sin\\theta = \\rho \\label{eq:hough_line}\n",
    "\\end{equation}\n",
    "This produces a sinusoidal curve in $(\\rho,\\theta)$-space, but otherwise the procedure is unchanged.\n",
    "\n",
    "The following sub-questions will guide you through the steps of building a Hough transform.\n",
    "\n",
    "## Hough voting\n",
    "Build up an accumulator array ``acc`` for the parameter space $(\\rho, \\theta)$. $\\theta$ ranges from $-\\pi/2$ to $\\pi/2$, and $\\rho$ ranges from $-D$ to $D$, where $D$ denotes the length of the image diagonal.\n",
    "Use ``n_bins_rho`` and ``n_bins_theta`` as the number of bins in each direction.\n",
    "Initially, the array should be filled with zeros.\n",
    "\n",
    "For each edge pixel in the input image, create the corresponding curve in $(\\rho, \\theta)$ space by evaluating above line equation for all values of $\\theta$ and incrementing the corresponding cells of the accumulator array."
   ]
  },
  {
   "cell_type": "code",
   "execution_count": 2,
   "metadata": {
    "deletable": false,
    "nbgrader": {
     "cell_type": "code",
     "checksum": "c5cfc5b3c952c0d068b79cff68cefcd4",
     "grade": true,
     "grade_id": "cell-200580483b10b07d",
     "locked": false,
     "points": 5,
     "schema_version": 3,
     "solution": true
    }
   },
   "outputs": [],
   "source": [
    "# POINTS: 5\n",
    "\n",
    "def hough_transform(edge_image, n_bins_rho, n_bins_theta):\n",
    "    # Vote accumulator\n",
    "    votes = np.zeros((n_bins_rho, n_bins_theta), dtype=np.int32)\n",
    "\n",
    "    # Create bins\n",
    "    diag = np.linalg.norm(edge_image.shape)  # Length of image diagonal\n",
    "    theta_bins = np.linspace(-np.pi / 2, np.pi / 2, n_bins_theta)\n",
    "    rho_bins = np.linspace(-diag, diag, n_bins_rho)\n",
    "\n",
    "    # YOUR CODE HERE\n",
    "    for i in range(edge_image.shape[0]):\n",
    "        for j in range(edge_image.shape[1]):\n",
    "            if edge_image[i][j] == 0:\n",
    "                continue\n",
    "            for idx,t in enumerate(theta_bins):\n",
    "                rho = j*np.cos(t) + i*np.sin(t)\n",
    "                rho_idx = np.argmin(np.abs(rho_bins - rho))\n",
    "                votes[rho_idx][idx] += 1\n",
    "    return votes, rho_bins, theta_bins"
   ]
  },
  {
   "cell_type": "markdown",
   "metadata": {
    "deletable": false,
    "editable": false,
    "nbgrader": {
     "cell_type": "markdown",
     "checksum": "12f641af8d0a2c9148fdf12a97d39e25",
     "grade": false,
     "grade_id": "cell-15119e3e172dac46",
     "locked": true,
     "schema_version": 3,
     "solution": false,
     "task": false
    }
   },
   "source": [
    "Now we can test the implementation on an example image and visualize the resulting Hough space by displaying it as a 2D image."
   ]
  },
  {
   "cell_type": "code",
   "execution_count": 3,
   "metadata": {
    "deletable": false,
    "editable": false,
    "nbgrader": {
     "cell_type": "code",
     "checksum": "283b99f809e5840b4e257fad9a79c77d",
     "grade": false,
     "grade_id": "cell-a79abef7726b3a67",
     "locked": true,
     "schema_version": 3,
     "solution": false,
     "task": false
    }
   },
   "outputs": [
    {
     "data": {
      "application/javascript": [
       "/* Put everything inside the global mpl namespace */\n",
       "/* global mpl */\n",
       "window.mpl = {};\n",
       "\n",
       "mpl.get_websocket_type = function () {\n",
       "    if (typeof WebSocket !== 'undefined') {\n",
       "        return WebSocket;\n",
       "    } else if (typeof MozWebSocket !== 'undefined') {\n",
       "        return MozWebSocket;\n",
       "    } else {\n",
       "        alert(\n",
       "            'Your browser does not have WebSocket support. ' +\n",
       "                'Please try Chrome, Safari or Firefox ≥ 6. ' +\n",
       "                'Firefox 4 and 5 are also supported but you ' +\n",
       "                'have to enable WebSockets in about:config.'\n",
       "        );\n",
       "    }\n",
       "};\n",
       "\n",
       "mpl.figure = function (figure_id, websocket, ondownload, parent_element) {\n",
       "    this.id = figure_id;\n",
       "\n",
       "    this.ws = websocket;\n",
       "\n",
       "    this.supports_binary = this.ws.binaryType !== undefined;\n",
       "\n",
       "    if (!this.supports_binary) {\n",
       "        var warnings = document.getElementById('mpl-warnings');\n",
       "        if (warnings) {\n",
       "            warnings.style.display = 'block';\n",
       "            warnings.textContent =\n",
       "                'This browser does not support binary websocket messages. ' +\n",
       "                'Performance may be slow.';\n",
       "        }\n",
       "    }\n",
       "\n",
       "    this.imageObj = new Image();\n",
       "\n",
       "    this.context = undefined;\n",
       "    this.message = undefined;\n",
       "    this.canvas = undefined;\n",
       "    this.rubberband_canvas = undefined;\n",
       "    this.rubberband_context = undefined;\n",
       "    this.format_dropdown = undefined;\n",
       "\n",
       "    this.image_mode = 'full';\n",
       "\n",
       "    this.root = document.createElement('div');\n",
       "    this.root.setAttribute('style', 'display: inline-block');\n",
       "    this._root_extra_style(this.root);\n",
       "\n",
       "    parent_element.appendChild(this.root);\n",
       "\n",
       "    this._init_header(this);\n",
       "    this._init_canvas(this);\n",
       "    this._init_toolbar(this);\n",
       "\n",
       "    var fig = this;\n",
       "\n",
       "    this.waiting = false;\n",
       "\n",
       "    this.ws.onopen = function () {\n",
       "        fig.send_message('supports_binary', { value: fig.supports_binary });\n",
       "        fig.send_message('send_image_mode', {});\n",
       "        if (fig.ratio !== 1) {\n",
       "            fig.send_message('set_device_pixel_ratio', {\n",
       "                device_pixel_ratio: fig.ratio,\n",
       "            });\n",
       "        }\n",
       "        fig.send_message('refresh', {});\n",
       "    };\n",
       "\n",
       "    this.imageObj.onload = function () {\n",
       "        if (fig.image_mode === 'full') {\n",
       "            // Full images could contain transparency (where diff images\n",
       "            // almost always do), so we need to clear the canvas so that\n",
       "            // there is no ghosting.\n",
       "            fig.context.clearRect(0, 0, fig.canvas.width, fig.canvas.height);\n",
       "        }\n",
       "        fig.context.drawImage(fig.imageObj, 0, 0);\n",
       "    };\n",
       "\n",
       "    this.imageObj.onunload = function () {\n",
       "        fig.ws.close();\n",
       "    };\n",
       "\n",
       "    this.ws.onmessage = this._make_on_message_function(this);\n",
       "\n",
       "    this.ondownload = ondownload;\n",
       "};\n",
       "\n",
       "mpl.figure.prototype._init_header = function () {\n",
       "    var titlebar = document.createElement('div');\n",
       "    titlebar.classList =\n",
       "        'ui-dialog-titlebar ui-widget-header ui-corner-all ui-helper-clearfix';\n",
       "    var titletext = document.createElement('div');\n",
       "    titletext.classList = 'ui-dialog-title';\n",
       "    titletext.setAttribute(\n",
       "        'style',\n",
       "        'width: 100%; text-align: center; padding: 3px;'\n",
       "    );\n",
       "    titlebar.appendChild(titletext);\n",
       "    this.root.appendChild(titlebar);\n",
       "    this.header = titletext;\n",
       "};\n",
       "\n",
       "mpl.figure.prototype._canvas_extra_style = function (_canvas_div) {};\n",
       "\n",
       "mpl.figure.prototype._root_extra_style = function (_canvas_div) {};\n",
       "\n",
       "mpl.figure.prototype._init_canvas = function () {\n",
       "    var fig = this;\n",
       "\n",
       "    var canvas_div = (this.canvas_div = document.createElement('div'));\n",
       "    canvas_div.setAttribute('tabindex', '0');\n",
       "    canvas_div.setAttribute(\n",
       "        'style',\n",
       "        'border: 1px solid #ddd;' +\n",
       "            'box-sizing: content-box;' +\n",
       "            'clear: both;' +\n",
       "            'min-height: 1px;' +\n",
       "            'min-width: 1px;' +\n",
       "            'outline: 0;' +\n",
       "            'overflow: hidden;' +\n",
       "            'position: relative;' +\n",
       "            'resize: both;' +\n",
       "            'z-index: 2;'\n",
       "    );\n",
       "\n",
       "    function on_keyboard_event_closure(name) {\n",
       "        return function (event) {\n",
       "            return fig.key_event(event, name);\n",
       "        };\n",
       "    }\n",
       "\n",
       "    canvas_div.addEventListener(\n",
       "        'keydown',\n",
       "        on_keyboard_event_closure('key_press')\n",
       "    );\n",
       "    canvas_div.addEventListener(\n",
       "        'keyup',\n",
       "        on_keyboard_event_closure('key_release')\n",
       "    );\n",
       "\n",
       "    this._canvas_extra_style(canvas_div);\n",
       "    this.root.appendChild(canvas_div);\n",
       "\n",
       "    var canvas = (this.canvas = document.createElement('canvas'));\n",
       "    canvas.classList.add('mpl-canvas');\n",
       "    canvas.setAttribute(\n",
       "        'style',\n",
       "        'box-sizing: content-box;' +\n",
       "            'pointer-events: none;' +\n",
       "            'position: relative;' +\n",
       "            'z-index: 0;'\n",
       "    );\n",
       "\n",
       "    this.context = canvas.getContext('2d');\n",
       "\n",
       "    var backingStore =\n",
       "        this.context.backingStorePixelRatio ||\n",
       "        this.context.webkitBackingStorePixelRatio ||\n",
       "        this.context.mozBackingStorePixelRatio ||\n",
       "        this.context.msBackingStorePixelRatio ||\n",
       "        this.context.oBackingStorePixelRatio ||\n",
       "        this.context.backingStorePixelRatio ||\n",
       "        1;\n",
       "\n",
       "    this.ratio = (window.devicePixelRatio || 1) / backingStore;\n",
       "\n",
       "    var rubberband_canvas = (this.rubberband_canvas = document.createElement(\n",
       "        'canvas'\n",
       "    ));\n",
       "    rubberband_canvas.setAttribute(\n",
       "        'style',\n",
       "        'box-sizing: content-box;' +\n",
       "            'left: 0;' +\n",
       "            'pointer-events: none;' +\n",
       "            'position: absolute;' +\n",
       "            'top: 0;' +\n",
       "            'z-index: 1;'\n",
       "    );\n",
       "\n",
       "    // Apply a ponyfill if ResizeObserver is not implemented by browser.\n",
       "    if (this.ResizeObserver === undefined) {\n",
       "        if (window.ResizeObserver !== undefined) {\n",
       "            this.ResizeObserver = window.ResizeObserver;\n",
       "        } else {\n",
       "            var obs = _JSXTOOLS_RESIZE_OBSERVER({});\n",
       "            this.ResizeObserver = obs.ResizeObserver;\n",
       "        }\n",
       "    }\n",
       "\n",
       "    this.resizeObserverInstance = new this.ResizeObserver(function (entries) {\n",
       "        var nentries = entries.length;\n",
       "        for (var i = 0; i < nentries; i++) {\n",
       "            var entry = entries[i];\n",
       "            var width, height;\n",
       "            if (entry.contentBoxSize) {\n",
       "                if (entry.contentBoxSize instanceof Array) {\n",
       "                    // Chrome 84 implements new version of spec.\n",
       "                    width = entry.contentBoxSize[0].inlineSize;\n",
       "                    height = entry.contentBoxSize[0].blockSize;\n",
       "                } else {\n",
       "                    // Firefox implements old version of spec.\n",
       "                    width = entry.contentBoxSize.inlineSize;\n",
       "                    height = entry.contentBoxSize.blockSize;\n",
       "                }\n",
       "            } else {\n",
       "                // Chrome <84 implements even older version of spec.\n",
       "                width = entry.contentRect.width;\n",
       "                height = entry.contentRect.height;\n",
       "            }\n",
       "\n",
       "            // Keep the size of the canvas and rubber band canvas in sync with\n",
       "            // the canvas container.\n",
       "            if (entry.devicePixelContentBoxSize) {\n",
       "                // Chrome 84 implements new version of spec.\n",
       "                canvas.setAttribute(\n",
       "                    'width',\n",
       "                    entry.devicePixelContentBoxSize[0].inlineSize\n",
       "                );\n",
       "                canvas.setAttribute(\n",
       "                    'height',\n",
       "                    entry.devicePixelContentBoxSize[0].blockSize\n",
       "                );\n",
       "            } else {\n",
       "                canvas.setAttribute('width', width * fig.ratio);\n",
       "                canvas.setAttribute('height', height * fig.ratio);\n",
       "            }\n",
       "            /* This rescales the canvas back to display pixels, so that it\n",
       "             * appears correct on HiDPI screens. */\n",
       "            canvas.style.width = width + 'px';\n",
       "            canvas.style.height = height + 'px';\n",
       "\n",
       "            rubberband_canvas.setAttribute('width', width);\n",
       "            rubberband_canvas.setAttribute('height', height);\n",
       "\n",
       "            // And update the size in Python. We ignore the initial 0/0 size\n",
       "            // that occurs as the element is placed into the DOM, which should\n",
       "            // otherwise not happen due to the minimum size styling.\n",
       "            if (fig.ws.readyState == 1 && width != 0 && height != 0) {\n",
       "                fig.request_resize(width, height);\n",
       "            }\n",
       "        }\n",
       "    });\n",
       "    this.resizeObserverInstance.observe(canvas_div);\n",
       "\n",
       "    function on_mouse_event_closure(name) {\n",
       "        /* User Agent sniffing is bad, but WebKit is busted:\n",
       "         * https://bugs.webkit.org/show_bug.cgi?id=144526\n",
       "         * https://bugs.webkit.org/show_bug.cgi?id=181818\n",
       "         * The worst that happens here is that they get an extra browser\n",
       "         * selection when dragging, if this check fails to catch them.\n",
       "         */\n",
       "        var UA = navigator.userAgent;\n",
       "        var isWebKit = /AppleWebKit/.test(UA) && !/Chrome/.test(UA);\n",
       "        if(isWebKit) {\n",
       "            return function (event) {\n",
       "                /* This prevents the web browser from automatically changing to\n",
       "                 * the text insertion cursor when the button is pressed. We\n",
       "                 * want to control all of the cursor setting manually through\n",
       "                 * the 'cursor' event from matplotlib */\n",
       "                event.preventDefault()\n",
       "                return fig.mouse_event(event, name);\n",
       "            };\n",
       "        } else {\n",
       "            return function (event) {\n",
       "                return fig.mouse_event(event, name);\n",
       "            };\n",
       "        }\n",
       "    }\n",
       "\n",
       "    canvas_div.addEventListener(\n",
       "        'mousedown',\n",
       "        on_mouse_event_closure('button_press')\n",
       "    );\n",
       "    canvas_div.addEventListener(\n",
       "        'mouseup',\n",
       "        on_mouse_event_closure('button_release')\n",
       "    );\n",
       "    canvas_div.addEventListener(\n",
       "        'dblclick',\n",
       "        on_mouse_event_closure('dblclick')\n",
       "    );\n",
       "    // Throttle sequential mouse events to 1 every 20ms.\n",
       "    canvas_div.addEventListener(\n",
       "        'mousemove',\n",
       "        on_mouse_event_closure('motion_notify')\n",
       "    );\n",
       "\n",
       "    canvas_div.addEventListener(\n",
       "        'mouseenter',\n",
       "        on_mouse_event_closure('figure_enter')\n",
       "    );\n",
       "    canvas_div.addEventListener(\n",
       "        'mouseleave',\n",
       "        on_mouse_event_closure('figure_leave')\n",
       "    );\n",
       "\n",
       "    canvas_div.addEventListener('wheel', function (event) {\n",
       "        if (event.deltaY < 0) {\n",
       "            event.step = 1;\n",
       "        } else {\n",
       "            event.step = -1;\n",
       "        }\n",
       "        on_mouse_event_closure('scroll')(event);\n",
       "    });\n",
       "\n",
       "    canvas_div.appendChild(canvas);\n",
       "    canvas_div.appendChild(rubberband_canvas);\n",
       "\n",
       "    this.rubberband_context = rubberband_canvas.getContext('2d');\n",
       "    this.rubberband_context.strokeStyle = '#000000';\n",
       "\n",
       "    this._resize_canvas = function (width, height, forward) {\n",
       "        if (forward) {\n",
       "            canvas_div.style.width = width + 'px';\n",
       "            canvas_div.style.height = height + 'px';\n",
       "        }\n",
       "    };\n",
       "\n",
       "    // Disable right mouse context menu.\n",
       "    canvas_div.addEventListener('contextmenu', function (_e) {\n",
       "        event.preventDefault();\n",
       "        return false;\n",
       "    });\n",
       "\n",
       "    function set_focus() {\n",
       "        canvas.focus();\n",
       "        canvas_div.focus();\n",
       "    }\n",
       "\n",
       "    window.setTimeout(set_focus, 100);\n",
       "};\n",
       "\n",
       "mpl.figure.prototype._init_toolbar = function () {\n",
       "    var fig = this;\n",
       "\n",
       "    var toolbar = document.createElement('div');\n",
       "    toolbar.classList = 'mpl-toolbar';\n",
       "    this.root.appendChild(toolbar);\n",
       "\n",
       "    function on_click_closure(name) {\n",
       "        return function (_event) {\n",
       "            return fig.toolbar_button_onclick(name);\n",
       "        };\n",
       "    }\n",
       "\n",
       "    function on_mouseover_closure(tooltip) {\n",
       "        return function (event) {\n",
       "            if (!event.currentTarget.disabled) {\n",
       "                return fig.toolbar_button_onmouseover(tooltip);\n",
       "            }\n",
       "        };\n",
       "    }\n",
       "\n",
       "    fig.buttons = {};\n",
       "    var buttonGroup = document.createElement('div');\n",
       "    buttonGroup.classList = 'mpl-button-group';\n",
       "    for (var toolbar_ind in mpl.toolbar_items) {\n",
       "        var name = mpl.toolbar_items[toolbar_ind][0];\n",
       "        var tooltip = mpl.toolbar_items[toolbar_ind][1];\n",
       "        var image = mpl.toolbar_items[toolbar_ind][2];\n",
       "        var method_name = mpl.toolbar_items[toolbar_ind][3];\n",
       "\n",
       "        if (!name) {\n",
       "            /* Instead of a spacer, we start a new button group. */\n",
       "            if (buttonGroup.hasChildNodes()) {\n",
       "                toolbar.appendChild(buttonGroup);\n",
       "            }\n",
       "            buttonGroup = document.createElement('div');\n",
       "            buttonGroup.classList = 'mpl-button-group';\n",
       "            continue;\n",
       "        }\n",
       "\n",
       "        var button = (fig.buttons[name] = document.createElement('button'));\n",
       "        button.classList = 'mpl-widget';\n",
       "        button.setAttribute('role', 'button');\n",
       "        button.setAttribute('aria-disabled', 'false');\n",
       "        button.addEventListener('click', on_click_closure(method_name));\n",
       "        button.addEventListener('mouseover', on_mouseover_closure(tooltip));\n",
       "\n",
       "        var icon_img = document.createElement('img');\n",
       "        icon_img.src = '_images/' + image + '.png';\n",
       "        icon_img.srcset = '_images/' + image + '_large.png 2x';\n",
       "        icon_img.alt = tooltip;\n",
       "        button.appendChild(icon_img);\n",
       "\n",
       "        buttonGroup.appendChild(button);\n",
       "    }\n",
       "\n",
       "    if (buttonGroup.hasChildNodes()) {\n",
       "        toolbar.appendChild(buttonGroup);\n",
       "    }\n",
       "\n",
       "    var fmt_picker = document.createElement('select');\n",
       "    fmt_picker.classList = 'mpl-widget';\n",
       "    toolbar.appendChild(fmt_picker);\n",
       "    this.format_dropdown = fmt_picker;\n",
       "\n",
       "    for (var ind in mpl.extensions) {\n",
       "        var fmt = mpl.extensions[ind];\n",
       "        var option = document.createElement('option');\n",
       "        option.selected = fmt === mpl.default_extension;\n",
       "        option.innerHTML = fmt;\n",
       "        fmt_picker.appendChild(option);\n",
       "    }\n",
       "\n",
       "    var status_bar = document.createElement('span');\n",
       "    status_bar.classList = 'mpl-message';\n",
       "    toolbar.appendChild(status_bar);\n",
       "    this.message = status_bar;\n",
       "};\n",
       "\n",
       "mpl.figure.prototype.request_resize = function (x_pixels, y_pixels) {\n",
       "    // Request matplotlib to resize the figure. Matplotlib will then trigger a resize in the client,\n",
       "    // which will in turn request a refresh of the image.\n",
       "    this.send_message('resize', { width: x_pixels, height: y_pixels });\n",
       "};\n",
       "\n",
       "mpl.figure.prototype.send_message = function (type, properties) {\n",
       "    properties['type'] = type;\n",
       "    properties['figure_id'] = this.id;\n",
       "    this.ws.send(JSON.stringify(properties));\n",
       "};\n",
       "\n",
       "mpl.figure.prototype.send_draw_message = function () {\n",
       "    if (!this.waiting) {\n",
       "        this.waiting = true;\n",
       "        this.ws.send(JSON.stringify({ type: 'draw', figure_id: this.id }));\n",
       "    }\n",
       "};\n",
       "\n",
       "mpl.figure.prototype.handle_save = function (fig, _msg) {\n",
       "    var format_dropdown = fig.format_dropdown;\n",
       "    var format = format_dropdown.options[format_dropdown.selectedIndex].value;\n",
       "    fig.ondownload(fig, format);\n",
       "};\n",
       "\n",
       "mpl.figure.prototype.handle_resize = function (fig, msg) {\n",
       "    var size = msg['size'];\n",
       "    if (size[0] !== fig.canvas.width || size[1] !== fig.canvas.height) {\n",
       "        fig._resize_canvas(size[0], size[1], msg['forward']);\n",
       "        fig.send_message('refresh', {});\n",
       "    }\n",
       "};\n",
       "\n",
       "mpl.figure.prototype.handle_rubberband = function (fig, msg) {\n",
       "    var x0 = msg['x0'] / fig.ratio;\n",
       "    var y0 = (fig.canvas.height - msg['y0']) / fig.ratio;\n",
       "    var x1 = msg['x1'] / fig.ratio;\n",
       "    var y1 = (fig.canvas.height - msg['y1']) / fig.ratio;\n",
       "    x0 = Math.floor(x0) + 0.5;\n",
       "    y0 = Math.floor(y0) + 0.5;\n",
       "    x1 = Math.floor(x1) + 0.5;\n",
       "    y1 = Math.floor(y1) + 0.5;\n",
       "    var min_x = Math.min(x0, x1);\n",
       "    var min_y = Math.min(y0, y1);\n",
       "    var width = Math.abs(x1 - x0);\n",
       "    var height = Math.abs(y1 - y0);\n",
       "\n",
       "    fig.rubberband_context.clearRect(\n",
       "        0,\n",
       "        0,\n",
       "        fig.canvas.width / fig.ratio,\n",
       "        fig.canvas.height / fig.ratio\n",
       "    );\n",
       "\n",
       "    fig.rubberband_context.strokeRect(min_x, min_y, width, height);\n",
       "};\n",
       "\n",
       "mpl.figure.prototype.handle_figure_label = function (fig, msg) {\n",
       "    // Updates the figure title.\n",
       "    fig.header.textContent = msg['label'];\n",
       "};\n",
       "\n",
       "mpl.figure.prototype.handle_cursor = function (fig, msg) {\n",
       "    fig.canvas_div.style.cursor = msg['cursor'];\n",
       "};\n",
       "\n",
       "mpl.figure.prototype.handle_message = function (fig, msg) {\n",
       "    fig.message.textContent = msg['message'];\n",
       "};\n",
       "\n",
       "mpl.figure.prototype.handle_draw = function (fig, _msg) {\n",
       "    // Request the server to send over a new figure.\n",
       "    fig.send_draw_message();\n",
       "};\n",
       "\n",
       "mpl.figure.prototype.handle_image_mode = function (fig, msg) {\n",
       "    fig.image_mode = msg['mode'];\n",
       "};\n",
       "\n",
       "mpl.figure.prototype.handle_history_buttons = function (fig, msg) {\n",
       "    for (var key in msg) {\n",
       "        if (!(key in fig.buttons)) {\n",
       "            continue;\n",
       "        }\n",
       "        fig.buttons[key].disabled = !msg[key];\n",
       "        fig.buttons[key].setAttribute('aria-disabled', !msg[key]);\n",
       "    }\n",
       "};\n",
       "\n",
       "mpl.figure.prototype.handle_navigate_mode = function (fig, msg) {\n",
       "    if (msg['mode'] === 'PAN') {\n",
       "        fig.buttons['Pan'].classList.add('active');\n",
       "        fig.buttons['Zoom'].classList.remove('active');\n",
       "    } else if (msg['mode'] === 'ZOOM') {\n",
       "        fig.buttons['Pan'].classList.remove('active');\n",
       "        fig.buttons['Zoom'].classList.add('active');\n",
       "    } else {\n",
       "        fig.buttons['Pan'].classList.remove('active');\n",
       "        fig.buttons['Zoom'].classList.remove('active');\n",
       "    }\n",
       "};\n",
       "\n",
       "mpl.figure.prototype.updated_canvas_event = function () {\n",
       "    // Called whenever the canvas gets updated.\n",
       "    this.send_message('ack', {});\n",
       "};\n",
       "\n",
       "// A function to construct a web socket function for onmessage handling.\n",
       "// Called in the figure constructor.\n",
       "mpl.figure.prototype._make_on_message_function = function (fig) {\n",
       "    return function socket_on_message(evt) {\n",
       "        if (evt.data instanceof Blob) {\n",
       "            var img = evt.data;\n",
       "            if (img.type !== 'image/png') {\n",
       "                /* FIXME: We get \"Resource interpreted as Image but\n",
       "                 * transferred with MIME type text/plain:\" errors on\n",
       "                 * Chrome.  But how to set the MIME type?  It doesn't seem\n",
       "                 * to be part of the websocket stream */\n",
       "                img.type = 'image/png';\n",
       "            }\n",
       "\n",
       "            /* Free the memory for the previous frames */\n",
       "            if (fig.imageObj.src) {\n",
       "                (window.URL || window.webkitURL).revokeObjectURL(\n",
       "                    fig.imageObj.src\n",
       "                );\n",
       "            }\n",
       "\n",
       "            fig.imageObj.src = (window.URL || window.webkitURL).createObjectURL(\n",
       "                img\n",
       "            );\n",
       "            fig.updated_canvas_event();\n",
       "            fig.waiting = false;\n",
       "            return;\n",
       "        } else if (\n",
       "            typeof evt.data === 'string' &&\n",
       "            evt.data.slice(0, 21) === 'data:image/png;base64'\n",
       "        ) {\n",
       "            fig.imageObj.src = evt.data;\n",
       "            fig.updated_canvas_event();\n",
       "            fig.waiting = false;\n",
       "            return;\n",
       "        }\n",
       "\n",
       "        var msg = JSON.parse(evt.data);\n",
       "        var msg_type = msg['type'];\n",
       "\n",
       "        // Call the  \"handle_{type}\" callback, which takes\n",
       "        // the figure and JSON message as its only arguments.\n",
       "        try {\n",
       "            var callback = fig['handle_' + msg_type];\n",
       "        } catch (e) {\n",
       "            console.log(\n",
       "                \"No handler for the '\" + msg_type + \"' message type: \",\n",
       "                msg\n",
       "            );\n",
       "            return;\n",
       "        }\n",
       "\n",
       "        if (callback) {\n",
       "            try {\n",
       "                // console.log(\"Handling '\" + msg_type + \"' message: \", msg);\n",
       "                callback(fig, msg);\n",
       "            } catch (e) {\n",
       "                console.log(\n",
       "                    \"Exception inside the 'handler_\" + msg_type + \"' callback:\",\n",
       "                    e,\n",
       "                    e.stack,\n",
       "                    msg\n",
       "                );\n",
       "            }\n",
       "        }\n",
       "    };\n",
       "};\n",
       "\n",
       "function getModifiers(event) {\n",
       "    var mods = [];\n",
       "    if (event.ctrlKey) {\n",
       "        mods.push('ctrl');\n",
       "    }\n",
       "    if (event.altKey) {\n",
       "        mods.push('alt');\n",
       "    }\n",
       "    if (event.shiftKey) {\n",
       "        mods.push('shift');\n",
       "    }\n",
       "    if (event.metaKey) {\n",
       "        mods.push('meta');\n",
       "    }\n",
       "    return mods;\n",
       "}\n",
       "\n",
       "/*\n",
       " * return a copy of an object with only non-object keys\n",
       " * we need this to avoid circular references\n",
       " * https://stackoverflow.com/a/24161582/3208463\n",
       " */\n",
       "function simpleKeys(original) {\n",
       "    return Object.keys(original).reduce(function (obj, key) {\n",
       "        if (typeof original[key] !== 'object') {\n",
       "            obj[key] = original[key];\n",
       "        }\n",
       "        return obj;\n",
       "    }, {});\n",
       "}\n",
       "\n",
       "mpl.figure.prototype.mouse_event = function (event, name) {\n",
       "    if (name === 'button_press') {\n",
       "        this.canvas.focus();\n",
       "        this.canvas_div.focus();\n",
       "    }\n",
       "\n",
       "    // from https://stackoverflow.com/q/1114465\n",
       "    var boundingRect = this.canvas.getBoundingClientRect();\n",
       "    var x = (event.clientX - boundingRect.left) * this.ratio;\n",
       "    var y = (event.clientY - boundingRect.top) * this.ratio;\n",
       "\n",
       "    this.send_message(name, {\n",
       "        x: x,\n",
       "        y: y,\n",
       "        button: event.button,\n",
       "        step: event.step,\n",
       "        modifiers: getModifiers(event),\n",
       "        guiEvent: simpleKeys(event),\n",
       "    });\n",
       "\n",
       "    return false;\n",
       "};\n",
       "\n",
       "mpl.figure.prototype._key_event_extra = function (_event, _name) {\n",
       "    // Handle any extra behaviour associated with a key event\n",
       "};\n",
       "\n",
       "mpl.figure.prototype.key_event = function (event, name) {\n",
       "    // Prevent repeat events\n",
       "    if (name === 'key_press') {\n",
       "        if (event.key === this._key) {\n",
       "            return;\n",
       "        } else {\n",
       "            this._key = event.key;\n",
       "        }\n",
       "    }\n",
       "    if (name === 'key_release') {\n",
       "        this._key = null;\n",
       "    }\n",
       "\n",
       "    var value = '';\n",
       "    if (event.ctrlKey && event.key !== 'Control') {\n",
       "        value += 'ctrl+';\n",
       "    }\n",
       "    else if (event.altKey && event.key !== 'Alt') {\n",
       "        value += 'alt+';\n",
       "    }\n",
       "    else if (event.shiftKey && event.key !== 'Shift') {\n",
       "        value += 'shift+';\n",
       "    }\n",
       "\n",
       "    value += 'k' + event.key;\n",
       "\n",
       "    this._key_event_extra(event, name);\n",
       "\n",
       "    this.send_message(name, { key: value, guiEvent: simpleKeys(event) });\n",
       "    return false;\n",
       "};\n",
       "\n",
       "mpl.figure.prototype.toolbar_button_onclick = function (name) {\n",
       "    if (name === 'download') {\n",
       "        this.handle_save(this, null);\n",
       "    } else {\n",
       "        this.send_message('toolbar_button', { name: name });\n",
       "    }\n",
       "};\n",
       "\n",
       "mpl.figure.prototype.toolbar_button_onmouseover = function (tooltip) {\n",
       "    this.message.textContent = tooltip;\n",
       "};\n",
       "\n",
       "///////////////// REMAINING CONTENT GENERATED BY embed_js.py /////////////////\n",
       "// prettier-ignore\n",
       "var _JSXTOOLS_RESIZE_OBSERVER=function(A){var t,i=new WeakMap,n=new WeakMap,a=new WeakMap,r=new WeakMap,o=new Set;function s(e){if(!(this instanceof s))throw new TypeError(\"Constructor requires 'new' operator\");i.set(this,e)}function h(){throw new TypeError(\"Function is not a constructor\")}function c(e,t,i,n){e=0 in arguments?Number(arguments[0]):0,t=1 in arguments?Number(arguments[1]):0,i=2 in arguments?Number(arguments[2]):0,n=3 in arguments?Number(arguments[3]):0,this.right=(this.x=this.left=e)+(this.width=i),this.bottom=(this.y=this.top=t)+(this.height=n),Object.freeze(this)}function d(){t=requestAnimationFrame(d);var s=new WeakMap,p=new Set;o.forEach((function(t){r.get(t).forEach((function(i){var r=t instanceof window.SVGElement,o=a.get(t),d=r?0:parseFloat(o.paddingTop),f=r?0:parseFloat(o.paddingRight),l=r?0:parseFloat(o.paddingBottom),u=r?0:parseFloat(o.paddingLeft),g=r?0:parseFloat(o.borderTopWidth),m=r?0:parseFloat(o.borderRightWidth),w=r?0:parseFloat(o.borderBottomWidth),b=u+f,F=d+l,v=(r?0:parseFloat(o.borderLeftWidth))+m,W=g+w,y=r?0:t.offsetHeight-W-t.clientHeight,E=r?0:t.offsetWidth-v-t.clientWidth,R=b+v,z=F+W,M=r?t.width:parseFloat(o.width)-R-E,O=r?t.height:parseFloat(o.height)-z-y;if(n.has(t)){var k=n.get(t);if(k[0]===M&&k[1]===O)return}n.set(t,[M,O]);var S=Object.create(h.prototype);S.target=t,S.contentRect=new c(u,d,M,O),s.has(i)||(s.set(i,[]),p.add(i)),s.get(i).push(S)}))})),p.forEach((function(e){i.get(e).call(e,s.get(e),e)}))}return s.prototype.observe=function(i){if(i instanceof window.Element){r.has(i)||(r.set(i,new Set),o.add(i),a.set(i,window.getComputedStyle(i)));var n=r.get(i);n.has(this)||n.add(this),cancelAnimationFrame(t),t=requestAnimationFrame(d)}},s.prototype.unobserve=function(i){if(i instanceof window.Element&&r.has(i)){var n=r.get(i);n.has(this)&&(n.delete(this),n.size||(r.delete(i),o.delete(i))),n.size||r.delete(i),o.size||cancelAnimationFrame(t)}},A.DOMRectReadOnly=c,A.ResizeObserver=s,A.ResizeObserverEntry=h,A}; // eslint-disable-line\n",
       "mpl.toolbar_items = [[\"Home\", \"Reset original view\", \"fa fa-home\", \"home\"], [\"Back\", \"Back to previous view\", \"fa fa-arrow-left\", \"back\"], [\"Forward\", \"Forward to next view\", \"fa fa-arrow-right\", \"forward\"], [\"\", \"\", \"\", \"\"], [\"Pan\", \"Left button pans, Right button zooms\\nx/y fixes axis, CTRL fixes aspect\", \"fa fa-arrows\", \"pan\"], [\"Zoom\", \"Zoom to rectangle\\nx/y fixes axis\", \"fa fa-square-o\", \"zoom\"], [\"\", \"\", \"\", \"\"], [\"Download\", \"Download plot\", \"fa fa-floppy-o\", \"download\"]];\n",
       "\n",
       "mpl.extensions = [\"eps\", \"jpeg\", \"pgf\", \"pdf\", \"png\", \"ps\", \"raw\", \"svg\", \"tif\", \"webp\"];\n",
       "\n",
       "mpl.default_extension = \"png\";/* global mpl */\n",
       "\n",
       "var comm_websocket_adapter = function (comm) {\n",
       "    // Create a \"websocket\"-like object which calls the given IPython comm\n",
       "    // object with the appropriate methods. Currently this is a non binary\n",
       "    // socket, so there is still some room for performance tuning.\n",
       "    var ws = {};\n",
       "\n",
       "    ws.binaryType = comm.kernel.ws.binaryType;\n",
       "    ws.readyState = comm.kernel.ws.readyState;\n",
       "    function updateReadyState(_event) {\n",
       "        if (comm.kernel.ws) {\n",
       "            ws.readyState = comm.kernel.ws.readyState;\n",
       "        } else {\n",
       "            ws.readyState = 3; // Closed state.\n",
       "        }\n",
       "    }\n",
       "    comm.kernel.ws.addEventListener('open', updateReadyState);\n",
       "    comm.kernel.ws.addEventListener('close', updateReadyState);\n",
       "    comm.kernel.ws.addEventListener('error', updateReadyState);\n",
       "\n",
       "    ws.close = function () {\n",
       "        comm.close();\n",
       "    };\n",
       "    ws.send = function (m) {\n",
       "        //console.log('sending', m);\n",
       "        comm.send(m);\n",
       "    };\n",
       "    // Register the callback with on_msg.\n",
       "    comm.on_msg(function (msg) {\n",
       "        //console.log('receiving', msg['content']['data'], msg);\n",
       "        var data = msg['content']['data'];\n",
       "        if (data['blob'] !== undefined) {\n",
       "            data = {\n",
       "                data: new Blob(msg['buffers'], { type: data['blob'] }),\n",
       "            };\n",
       "        }\n",
       "        // Pass the mpl event to the overridden (by mpl) onmessage function.\n",
       "        ws.onmessage(data);\n",
       "    });\n",
       "    return ws;\n",
       "};\n",
       "\n",
       "mpl.mpl_figure_comm = function (comm, msg) {\n",
       "    // This is the function which gets called when the mpl process\n",
       "    // starts-up an IPython Comm through the \"matplotlib\" channel.\n",
       "\n",
       "    var id = msg.content.data.id;\n",
       "    // Get hold of the div created by the display call when the Comm\n",
       "    // socket was opened in Python.\n",
       "    var element = document.getElementById(id);\n",
       "    var ws_proxy = comm_websocket_adapter(comm);\n",
       "\n",
       "    function ondownload(figure, _format) {\n",
       "        window.open(figure.canvas.toDataURL());\n",
       "    }\n",
       "\n",
       "    var fig = new mpl.figure(id, ws_proxy, ondownload, element);\n",
       "\n",
       "    // Call onopen now - mpl needs it, as it is assuming we've passed it a real\n",
       "    // web socket which is closed, not our websocket->open comm proxy.\n",
       "    ws_proxy.onopen();\n",
       "\n",
       "    fig.parent_element = element;\n",
       "    fig.cell_info = mpl.find_output_cell(\"<div id='\" + id + \"'></div>\");\n",
       "    if (!fig.cell_info) {\n",
       "        console.error('Failed to find cell for figure', id, fig);\n",
       "        return;\n",
       "    }\n",
       "    fig.cell_info[0].output_area.element.on(\n",
       "        'cleared',\n",
       "        { fig: fig },\n",
       "        fig._remove_fig_handler\n",
       "    );\n",
       "};\n",
       "\n",
       "mpl.figure.prototype.handle_close = function (fig, msg) {\n",
       "    var width = fig.canvas.width / fig.ratio;\n",
       "    fig.cell_info[0].output_area.element.off(\n",
       "        'cleared',\n",
       "        fig._remove_fig_handler\n",
       "    );\n",
       "    fig.resizeObserverInstance.unobserve(fig.canvas_div);\n",
       "\n",
       "    // Update the output cell to use the data from the current canvas.\n",
       "    fig.push_to_output();\n",
       "    var dataURL = fig.canvas.toDataURL();\n",
       "    // Re-enable the keyboard manager in IPython - without this line, in FF,\n",
       "    // the notebook keyboard shortcuts fail.\n",
       "    IPython.keyboard_manager.enable();\n",
       "    fig.parent_element.innerHTML =\n",
       "        '<img src=\"' + dataURL + '\" width=\"' + width + '\">';\n",
       "    fig.close_ws(fig, msg);\n",
       "};\n",
       "\n",
       "mpl.figure.prototype.close_ws = function (fig, msg) {\n",
       "    fig.send_message('closing', msg);\n",
       "    // fig.ws.close()\n",
       "};\n",
       "\n",
       "mpl.figure.prototype.push_to_output = function (_remove_interactive) {\n",
       "    // Turn the data on the canvas into data in the output cell.\n",
       "    var width = this.canvas.width / this.ratio;\n",
       "    var dataURL = this.canvas.toDataURL();\n",
       "    this.cell_info[1]['text/html'] =\n",
       "        '<img src=\"' + dataURL + '\" width=\"' + width + '\">';\n",
       "};\n",
       "\n",
       "mpl.figure.prototype.updated_canvas_event = function () {\n",
       "    // Tell IPython that the notebook contents must change.\n",
       "    IPython.notebook.set_dirty(true);\n",
       "    this.send_message('ack', {});\n",
       "    var fig = this;\n",
       "    // Wait a second, then push the new image to the DOM so\n",
       "    // that it is saved nicely (might be nice to debounce this).\n",
       "    setTimeout(function () {\n",
       "        fig.push_to_output();\n",
       "    }, 1000);\n",
       "};\n",
       "\n",
       "mpl.figure.prototype._init_toolbar = function () {\n",
       "    var fig = this;\n",
       "\n",
       "    var toolbar = document.createElement('div');\n",
       "    toolbar.classList = 'btn-toolbar';\n",
       "    this.root.appendChild(toolbar);\n",
       "\n",
       "    function on_click_closure(name) {\n",
       "        return function (_event) {\n",
       "            return fig.toolbar_button_onclick(name);\n",
       "        };\n",
       "    }\n",
       "\n",
       "    function on_mouseover_closure(tooltip) {\n",
       "        return function (event) {\n",
       "            if (!event.currentTarget.disabled) {\n",
       "                return fig.toolbar_button_onmouseover(tooltip);\n",
       "            }\n",
       "        };\n",
       "    }\n",
       "\n",
       "    fig.buttons = {};\n",
       "    var buttonGroup = document.createElement('div');\n",
       "    buttonGroup.classList = 'btn-group';\n",
       "    var button;\n",
       "    for (var toolbar_ind in mpl.toolbar_items) {\n",
       "        var name = mpl.toolbar_items[toolbar_ind][0];\n",
       "        var tooltip = mpl.toolbar_items[toolbar_ind][1];\n",
       "        var image = mpl.toolbar_items[toolbar_ind][2];\n",
       "        var method_name = mpl.toolbar_items[toolbar_ind][3];\n",
       "\n",
       "        if (!name) {\n",
       "            /* Instead of a spacer, we start a new button group. */\n",
       "            if (buttonGroup.hasChildNodes()) {\n",
       "                toolbar.appendChild(buttonGroup);\n",
       "            }\n",
       "            buttonGroup = document.createElement('div');\n",
       "            buttonGroup.classList = 'btn-group';\n",
       "            continue;\n",
       "        }\n",
       "\n",
       "        button = fig.buttons[name] = document.createElement('button');\n",
       "        button.classList = 'btn btn-default';\n",
       "        button.href = '#';\n",
       "        button.title = name;\n",
       "        button.innerHTML = '<i class=\"fa ' + image + ' fa-lg\"></i>';\n",
       "        button.addEventListener('click', on_click_closure(method_name));\n",
       "        button.addEventListener('mouseover', on_mouseover_closure(tooltip));\n",
       "        buttonGroup.appendChild(button);\n",
       "    }\n",
       "\n",
       "    if (buttonGroup.hasChildNodes()) {\n",
       "        toolbar.appendChild(buttonGroup);\n",
       "    }\n",
       "\n",
       "    // Add the status bar.\n",
       "    var status_bar = document.createElement('span');\n",
       "    status_bar.classList = 'mpl-message pull-right';\n",
       "    toolbar.appendChild(status_bar);\n",
       "    this.message = status_bar;\n",
       "\n",
       "    // Add the close button to the window.\n",
       "    var buttongrp = document.createElement('div');\n",
       "    buttongrp.classList = 'btn-group inline pull-right';\n",
       "    button = document.createElement('button');\n",
       "    button.classList = 'btn btn-mini btn-primary';\n",
       "    button.href = '#';\n",
       "    button.title = 'Stop Interaction';\n",
       "    button.innerHTML = '<i class=\"fa fa-power-off icon-remove icon-large\"></i>';\n",
       "    button.addEventListener('click', function (_evt) {\n",
       "        fig.handle_close(fig, {});\n",
       "    });\n",
       "    button.addEventListener(\n",
       "        'mouseover',\n",
       "        on_mouseover_closure('Stop Interaction')\n",
       "    );\n",
       "    buttongrp.appendChild(button);\n",
       "    var titlebar = this.root.querySelector('.ui-dialog-titlebar');\n",
       "    titlebar.insertBefore(buttongrp, titlebar.firstChild);\n",
       "};\n",
       "\n",
       "mpl.figure.prototype._remove_fig_handler = function (event) {\n",
       "    var fig = event.data.fig;\n",
       "    if (event.target !== this) {\n",
       "        // Ignore bubbled events from children.\n",
       "        return;\n",
       "    }\n",
       "    fig.close_ws(fig, {});\n",
       "};\n",
       "\n",
       "mpl.figure.prototype._root_extra_style = function (el) {\n",
       "    el.style.boxSizing = 'content-box'; // override notebook setting of border-box.\n",
       "};\n",
       "\n",
       "mpl.figure.prototype._canvas_extra_style = function (el) {\n",
       "    // this is important to make the div 'focusable\n",
       "    el.setAttribute('tabindex', 0);\n",
       "    // reach out to IPython and tell the keyboard manager to turn it's self\n",
       "    // off when our div gets focus\n",
       "\n",
       "    // location in version 3\n",
       "    if (IPython.notebook.keyboard_manager) {\n",
       "        IPython.notebook.keyboard_manager.register_events(el);\n",
       "    } else {\n",
       "        // location in version 2\n",
       "        IPython.keyboard_manager.register_events(el);\n",
       "    }\n",
       "};\n",
       "\n",
       "mpl.figure.prototype._key_event_extra = function (event, _name) {\n",
       "    // Check for shift+enter\n",
       "    if (event.shiftKey && event.which === 13) {\n",
       "        this.canvas_div.blur();\n",
       "        // select the cell after this one\n",
       "        var index = IPython.notebook.find_cell_index(this.cell_info[0]);\n",
       "        IPython.notebook.select(index + 1);\n",
       "    }\n",
       "};\n",
       "\n",
       "mpl.figure.prototype.handle_save = function (fig, _msg) {\n",
       "    fig.ondownload(fig, null);\n",
       "};\n",
       "\n",
       "mpl.find_output_cell = function (html_output) {\n",
       "    // Return the cell and output element which can be found *uniquely* in the notebook.\n",
       "    // Note - this is a bit hacky, but it is done because the \"notebook_saving.Notebook\"\n",
       "    // IPython event is triggered only after the cells have been serialised, which for\n",
       "    // our purposes (turning an active figure into a static one), is too late.\n",
       "    var cells = IPython.notebook.get_cells();\n",
       "    var ncells = cells.length;\n",
       "    for (var i = 0; i < ncells; i++) {\n",
       "        var cell = cells[i];\n",
       "        if (cell.cell_type === 'code') {\n",
       "            for (var j = 0; j < cell.output_area.outputs.length; j++) {\n",
       "                var data = cell.output_area.outputs[j];\n",
       "                if (data.data) {\n",
       "                    // IPython >= 3 moved mimebundle to data attribute of output\n",
       "                    data = data.data;\n",
       "                }\n",
       "                if (data['text/html'] === html_output) {\n",
       "                    return [cell, data, j];\n",
       "                }\n",
       "            }\n",
       "        }\n",
       "    }\n",
       "};\n",
       "\n",
       "// Register the function which deals with the matplotlib target/channel.\n",
       "// The kernel may be null if the page has been refreshed.\n",
       "if (IPython.notebook.kernel !== null) {\n",
       "    IPython.notebook.kernel.comm_manager.register_target(\n",
       "        'matplotlib',\n",
       "        mpl.mpl_figure_comm\n",
       "    );\n",
       "}\n"
      ],
      "text/plain": [
       "<IPython.core.display.Javascript object>"
      ]
     },
     "metadata": {},
     "output_type": "display_data"
    },
    {
     "data": {
      "text/html": [
       "<img src=\"data:image/png;base64,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\" width=\"1200\">"
      ],
      "text/plain": [
       "<IPython.core.display.HTML object>"
      ]
     },
     "metadata": {},
     "output_type": "display_data"
    }
   ],
   "source": [
    "color_im = iio.imread(\"gantrycrane.png\")\n",
    "gray_im = cv2.cvtColor(color_im, cv2.COLOR_RGB2GRAY)\n",
    "\n",
    "# Get edges using Canny\n",
    "blurred = cv2.GaussianBlur(gray_im, None, sigmaX=2.5)\n",
    "edges = cv2.Canny(blurred, threshold1=30, threshold2=50)\n",
    "\n",
    "hough_space, rho_bins, theta_bins = hough_transform(\n",
    "    edges, n_bins_rho=300, n_bins_theta=300\n",
    ")\n",
    "\n",
    "fig, axes = plt.subplots(1, 3, figsize=(12, 4))\n",
    "axes[0].imshow(color_im)\n",
    "axes[0].set_title(\"Image\")\n",
    "axes[1].imshow(edges, cmap=\"gray\")\n",
    "axes[1].set_title(\"Edges\")\n",
    "axes[2].imshow(hough_space)\n",
    "axes[2].set_title(\"Hough space\")\n",
    "axes[2].set_xlabel(\"theta (index)\")\n",
    "axes[2].set_ylabel(\"rho (index)\")\n",
    "fig.tight_layout()"
   ]
  },
  {
   "cell_type": "markdown",
   "metadata": {
    "deletable": false,
    "editable": false,
    "nbgrader": {
     "cell_type": "markdown",
     "checksum": "441027c3c57a277a5612bb11becf3d6f",
     "grade": false,
     "grade_id": "cell-865d0e28d5bfc0ac",
     "locked": true,
     "schema_version": 3,
     "solution": false,
     "task": false
    }
   },
   "source": [
    "## Non-maximum suppression and finding peaks\n",
    "Write a function ``nms2d`` which suppresses all points in the Hough space that are not local maxima.\n",
    "This can be achieved by looking at the 8 direct neighbors of each pixel and keeping only pixels whose value is greater than all its neighbors. This function is simpler than the non-maximum suppression from the Canny Edge Detector exercise, since it does not take into account local gradients.\n",
    "\n",
    "Tip: think about what to do at the borders of the Hough array. What happens if we simply ignore the border areas? How should we treat it to be precise? (Remember that theta represents an angle that wraps around back to itself)."
   ]
  },
  {
   "cell_type": "code",
   "execution_count": 15,
   "metadata": {
    "deletable": false,
    "nbgrader": {
     "cell_type": "code",
     "checksum": "5df54a1529b18aa9d0d635c6339bf59f",
     "grade": true,
     "grade_id": "cell-6d4f7f4681882539",
     "locked": false,
     "points": 3,
     "schema_version": 3,
     "solution": true
    }
   },
   "outputs": [],
   "source": [
    "# POINTS: 3\n",
    "def nms2d(hough_array):\n",
    "    hough_array_out = np.zeros_like(hough_array)\n",
    "    # YOUR CODE HERE\n",
    "    #In the borders, pixels has less than 8 neighbors but still worth to consider so \n",
    "    #we add zero padding to include the border areas as well\n",
    "    hough_array = np.pad(hough_array,(1,1))\n",
    "    for i in range(1, hough_array.shape[0] - 1):\n",
    "        for j in range(1, hough_array.shape[1] - 1):\n",
    "            i_neighbor = j + np.array([1, 1, 0, -1, -1, -1, 0, 1])\n",
    "            j_neighbor = i + np.array([0, -1, -1, -1, 0, 1, 1, 1])\n",
    "            neighbor_vals = hough_array[i_neighbor, j_neighbor]\n",
    "            if np.all(neighbor_vals <= hough_array[i, j]):\n",
    "                hough_array_out[i-1, j-1] = hough_array[i, j]\n",
    "    return hough_array_out"
   ]
  },
  {
   "cell_type": "markdown",
   "metadata": {
    "deletable": false,
    "editable": false,
    "nbgrader": {
     "cell_type": "markdown",
     "checksum": "32f28dd56c3641b40992e78d2060f8f6",
     "grade": false,
     "grade_id": "cell-7e060df45bec23a3",
     "locked": true,
     "schema_version": 3,
     "solution": false,
     "task": false
    }
   },
   "source": [
    "Write a function ``find_hough_peaks`` that takes the result of ``hough_transform`` as an argument, finds the extrema in Hough space using ``nms2d`` and returns the index of all points $(\\rho_i, \\theta_i)$ for which the corresponding Hough value is greater than ``threshold``. What would happen if we swapped the order of the thresholding and the NMS operations?"
   ]
  },
  {
   "cell_type": "code",
   "execution_count": 16,
   "metadata": {
    "deletable": false,
    "nbgrader": {
     "cell_type": "code",
     "checksum": "98222cdbcb47366e2b1ebf970155fc7d",
     "grade": true,
     "grade_id": "cell-9eda7cc46c4f7235",
     "locked": false,
     "points": 1,
     "schema_version": 3,
     "solution": true
    }
   },
   "outputs": [],
   "source": [
    "# POINTS: 1\n",
    "def find_hough_peaks(hough_space, threshold):\n",
    "    # YOUR CODE HERE\n",
    "    h_peaks = nms2d(hough_space)\n",
    "    h_peaks = np.where(h_peaks<threshold,0,h_peaks)\n",
    "    return h_peaks.nonzero()"
   ]
  },
  {
   "cell_type": "markdown",
   "metadata": {
    "deletable": false,
    "editable": false,
    "nbgrader": {
     "cell_type": "markdown",
     "checksum": "b53884328815ddba544afed9dc5b97dc",
     "grade": false,
     "grade_id": "cell-bf1eaea0989ebcf2",
     "locked": true,
     "schema_version": 3,
     "solution": false,
     "task": false
    }
   },
   "source": [
    "Now, let's plot the results of your implementation. Are the results correct? Are there any undetected lines or wrong lines returned? If yes, why are those lines missing and why are there false positives? Can you think of ways to avoid those mistakes?"
   ]
  },
  {
   "cell_type": "code",
   "execution_count": 20,
   "metadata": {
    "deletable": false,
    "editable": false,
    "nbgrader": {
     "cell_type": "code",
     "checksum": "395dcae24135d2e87baacea63ac23c49",
     "grade": false,
     "grade_id": "cell-907990be67623cc2",
     "locked": true,
     "schema_version": 3,
     "solution": false,
     "task": false
    }
   },
   "outputs": [],
   "source": [
    "def plot_hough_lines(image, rho, theta):\n",
    "    # compute start and ending point of the line x*cos(theta)+y*sin(theta)=rho\n",
    "    x0, x1 = 0, image.shape[1] - 1\n",
    "    y0 = rho / np.sin(theta)\n",
    "    y1 = (rho - x1 * np.cos(theta)) / np.sin(theta)\n",
    "\n",
    "    # Check out this page for more drawing function in OpenCV:\n",
    "    # https://docs.opencv.org/3.1.0/dc/da5/tutorial_py_drawing_functions.html\n",
    "    for yy0, yy1 in zip(y0, y1):\n",
    "        cv2.line(image, (x0, int(yy0)), (x1, int(yy1)), color=(255, 0, 0), thickness=1)\n",
    "\n",
    "    return image\n",
    "\n",
    "\n",
    "# Find maximum\n",
    "rho_max_idx, theta_max_idx = find_hough_peaks(hough_space, 200)\n",
    "print(f\"gantrycrane.png: found {len(rho_max_idx)} lines in the image.\")\n",
    "rho_max, theta_max = rho_bins[rho_max_idx], theta_bins[theta_max_idx]\n",
    "\n",
    "color_image = iio.imread(\"gantrycrane.png\")\n",
    "image_with_lines = plot_hough_lines(color_image, rho_max, theta_max)\n",
    "\n",
    "# Plot\n",
    "fig, ax = plt.subplots(figsize=(8, 4))\n",
    "ax.imshow(image_with_lines)"
   ]
  },
  {
   "cell_type": "code",
   "execution_count": 21,
   "metadata": {
    "deletable": false,
    "editable": false,
    "nbgrader": {
     "cell_type": "code",
     "checksum": "ccf43c7304a84e3dcc450138420140b2",
     "grade": false,
     "grade_id": "cell-9146a5deeb7f5014",
     "locked": true,
     "schema_version": 3,
     "solution": false,
     "task": false
    }
   },
   "outputs": [],
   "source": [
    "# Try another image\n",
    "im = iio.imread(\"circuit.png\")\n",
    "\n",
    "blurred = cv2.GaussianBlur(im, None, sigmaX=2)\n",
    "edge = cv2.Canny(blurred, threshold1=30, threshold2=90)\n",
    "hough_space, rho_bins, theta_bins = hough_transform(\n",
    "    edge, n_bins_rho=300, n_bins_theta=300\n",
    ")\n",
    "\n",
    "# Find maximum\n",
    "rho_max_idx, theta_max_idx = find_hough_peaks(hough_space, 100)\n",
    "print(f\"circuit.png: found {len(rho_max_idx)} lines in the image.\")\n",
    "rho_max, theta_max = rho_bins[rho_max_idx], theta_bins[theta_max_idx]\n",
    "color_image = cv2.cvtColor(im, cv2.COLOR_GRAY2RGB)\n",
    "image_with_lines = plot_hough_lines(color_image, rho_max, theta_max)\n",
    "\n",
    "# Plot\n",
    "fig, ax = plt.subplots(figsize=(8, 4))\n",
    "ax.imshow(image_with_lines)\n",
    "fig.tight_layout()"
   ]
  },
  {
   "cell_type": "markdown",
   "metadata": {
    "deletable": false,
    "editable": false,
    "nbgrader": {
     "cell_type": "markdown",
     "checksum": "485921dd30b4e81e44c9f57078d5ce9e",
     "grade": false,
     "grade_id": "cell-4c4f254eda2f3934",
     "locked": true,
     "schema_version": 3,
     "solution": false,
     "task": false
    }
   },
   "source": [
    "## [OPTIONAL] Circle Hough transform for circles\n",
    "\n",
    "The Hough transform is a general technique that can not only be applied to lines, but also to other parametric curves, such as circles.\n",
    "In the following, we will show how the implementation can be extended to finding circles.\n",
    "\n",
    "A circle can be parameterized by the following equation:\n",
    "$$\t\n",
    "    (\\mathtt{x}-a)^2 + (\\mathtt{y}-b)^2 = r^2. \\label{eq:hough_circle}\n",
    "$$\n",
    "\n",
    "Unfortunately, the computation and memory requirements for the Hough transform increase exponentially with the number of parameters.\n",
    "While a 3D search space is still just feasible, we can dramatically reduce the amount of computation by integrating the gradient direction in the algorithm.\n",
    "\n",
    "Without gradient information, all values $a, b$ lying on the cone given by above equation are incremented.\n",
    "With the gradient information, we only need to increment points on an arc centered at $(a, b)$:\n",
    "\\begin{eqnarray}\n",
    "\ta &=& x + r\\cos\\phi\\\\\n",
    "\tb &=& y + r\\sin\\phi,\n",
    "\\end{eqnarray}\n",
    "where $\\phi$ is the gradient angle returned by the edge operator.\n",
    "\n",
    "Create a function ``hough_circle`` which implements the Hough transform for circles.\n",
    "Try your implementation for a practical application of counting coins in an image.\n",
    "You can use the images ``coins1.png`` and ``coins2.png`` for testing."
   ]
  },
  {
   "cell_type": "code",
   "execution_count": null,
   "metadata": {
    "deletable": false,
    "nbgrader": {
     "cell_type": "code",
     "checksum": "3f536f36e46b4aee218ff2c215245188",
     "grade": true,
     "grade_id": "cell-a5dacf84fd9a91bf",
     "locked": false,
     "points": 0,
     "schema_version": 3,
     "solution": true,
     "task": false
    }
   },
   "outputs": [],
   "source": [
    "# YOUR CODE HERE\n",
    "raise NotImplementedError()"
   ]
  },
  {
   "cell_type": "markdown",
   "metadata": {
    "deletable": false,
    "editable": false,
    "nbgrader": {
     "cell_type": "markdown",
     "checksum": "ce8da9c95316cec9ae27e4fc7fc25bed",
     "grade": false,
     "grade_id": "cell-41820471cfcf26e4",
     "locked": true,
     "schema_version": 3,
     "solution": false,
     "task": false
    }
   },
   "source": [
    "## [OPTIONAL] Line Hough transform with gradient information \n",
    "The same trick of using the image gradient can be used for lines.\n",
    "Modify the hough voting code to only vote for one line per edge pixel, instead of all the lines running through this pixel.\n",
    "Can you think of any disadvantages of this approach?"
   ]
  },
  {
   "cell_type": "code",
   "execution_count": null,
   "metadata": {
    "deletable": false,
    "nbgrader": {
     "cell_type": "code",
     "checksum": "467a127fdea81ed2a5a555c9a3bb8b93",
     "grade": true,
     "grade_id": "cell-e382b415b74d990b",
     "locked": false,
     "points": 0,
     "schema_version": 3,
     "solution": true,
     "task": false
    }
   },
   "outputs": [],
   "source": [
    "# YOUR CODE HERE\n",
    "raise NotImplementedError()"
   ]
  },
  {
   "cell_type": "markdown",
   "metadata": {
    "deletable": false,
    "editable": false,
    "nbgrader": {
     "cell_type": "markdown",
     "checksum": "a9b5632ddff78a43fb034b73009de4cc",
     "grade": false,
     "grade_id": "cell-9d22ec40eaf63a5e",
     "locked": true,
     "schema_version": 3,
     "solution": false,
     "task": false
    }
   },
   "source": [
    "## [OPTIONAL] Counting coins\n",
    "\n",
    "Can you build a demo application that takes a photo of several different Euro coins lying on a table as input and tells you how much money it is in total in Euros (i.e. the output is one number)?\n",
    "\n",
    "How well does it work when the coins start to overlap or lie on top of each other?\n",
    "\n",
    "Use the functions you wrote in the previous questions.\n",
    "(Hint: you may need to include a reference shape in the picture in order to obtain the absolute scale, i. e. to convert from pixels to millimeters)."
   ]
  },
  {
   "cell_type": "code",
   "execution_count": null,
   "metadata": {
    "deletable": false,
    "nbgrader": {
     "cell_type": "code",
     "checksum": "29b7e00c0630052ea82f55bccf4abb06",
     "grade": true,
     "grade_id": "cell-44df0dca84e96cbb",
     "locked": false,
     "points": 0,
     "schema_version": 3,
     "solution": true,
     "task": false
    }
   },
   "outputs": [],
   "source": [
    "# YOUR CODE HERE\n",
    "raise NotImplementedError()"
   ]
  }
 ],
 "metadata": {
  "kernelspec": {
   "display_name": "Python 3 (ipykernel)",
   "language": "python",
   "name": "python3"
  },
  "language_info": {
   "codemirror_mode": {
    "name": "ipython",
    "version": 3
   },
   "file_extension": ".py",
   "mimetype": "text/x-python",
   "name": "python",
   "nbconvert_exporter": "python",
   "pygments_lexer": "ipython3",
   "version": "3.8.10"
  }
 },
 "nbformat": 4,
 "nbformat_minor": 2
}
